{
 "cells": [
  {
   "cell_type": "markdown",
   "metadata": {
    "id": "Z-9BpIlqAZci"
   },
   "source": [
    "Project: /mediapipe/_project.yaml\n",
    "Book: /mediapipe/_book.yaml\n",
    "\n",
    "<link rel=\"stylesheet\" href=\"/mediapipe/site.css\">\n",
    "\n",
    "# Hand gesture recognition model customization guide\n",
    "\n",
    "<table align=\"left\" class=\"buttons\">\n",
    "  <td>\n",
    "    <a href=\"https://colab.research.google.com/github/googlesamples/mediapipe/blob/main/examples/customization/gesture_recognizer.ipynb\" target=\"_blank\">\n",
    "      <img src=\"https://developers.google.com/static/mediapipe/solutions/customization/colab-logo-32px_1920.png\" alt=\"Colab logo\"> Run in Colab\n",
    "    </a>\n",
    "  </td>\n",
    "\n",
    "  <td>\n",
    "    <a href=\"https://github.com/googlesamples/mediapipe/blob/main/examples/customization/gesture_recognizer.ipynb\" target=\"_blank\">\n",
    "      <img src=\"https://developers.google.com/static/mediapipe/solutions/customization/github-logo-32px_1920.png\" alt=\"GitHub logo\">\n",
    "      View on GitHub\n",
    "    </a>\n",
    "  </td>\n",
    "</table>"
   ]
  },
  {
   "cell_type": "code",
   "metadata": {
    "id": "JO1GUwC1_T2x",
    "ExecuteTime": {
     "end_time": "2024-11-26T10:23:54.339570Z",
     "start_time": "2024-11-26T10:23:54.335012Z"
    }
   },
   "source": [
    "#@title License information\n",
    "# Copyright 2023 The MediaPipe Authors.\n",
    "# Licensed under the Apache License, Version 2.0 (the \"License\");\n",
    "#\n",
    "# you may not use this file except in compliance with the License.\n",
    "# You may obtain a copy of the License at\n",
    "#\n",
    "# https://www.apache.org/licenses/LICENSE-2.0\n",
    "#\n",
    "# Unless required by applicable law or agreed to in writing, software\n",
    "# distributed under the License is distributed on an \"AS IS\" BASIS,\n",
    "# WITHOUT WARRANTIES OR CONDITIONS OF ANY KIND, either express or implied.\n",
    "# See the License for the specific language governing permissions and\n",
    "# limitations under the License."
   ],
   "outputs": [],
   "execution_count": 1
  },
  {
   "cell_type": "markdown",
   "metadata": {
    "id": "wFBcmjzf0JLE"
   },
   "source": [
    "The MediaPipe Model Maker package is a low-code solution for customizing on-device machine learning (ML) Models.\n",
    "\n",
    "This notebook shows the end-to-end process of customizing a gesture recognizer model for recognizing some common hand gestures in the [HaGRID](https://www.kaggle.com/datasets/innominate817/hagrid-sample-30k-384p) dataset."
   ]
  },
  {
   "cell_type": "markdown",
   "metadata": {
    "id": "YGM0PT490LiR"
   },
   "source": [
    "## Prerequisites"
   ]
  },
  {
   "cell_type": "markdown",
   "metadata": {
    "id": "cVVxZNfo0M0y"
   },
   "source": [
    "Install the MediaPipe Model Maker package."
   ]
  },
  {
   "cell_type": "code",
   "metadata": {
    "id": "6DBLRE-fqlO5",
    "ExecuteTime": {
     "end_time": "2024-11-26T10:24:49.898850Z",
     "start_time": "2024-11-26T10:23:54.340579Z"
    }
   },
   "source": [
    "!pip install --upgrade pip\n",
    "!pip install mediapipe-model-maker\n",
    "!pip install tensorflow matplotlib\n"
   ],
   "outputs": [
    {
     "name": "stdout",
     "output_type": "stream",
     "text": [
      "Requirement already satisfied: pip in c:\\users\\conca\\documents\\progetti\\progettouit\\ispirazione8_pyglet\\uitproject\\venv\\lib\\site-packages (23.2.1)\n",
      "Collecting pip\n",
      "  Obtaining dependency information for pip from https://files.pythonhosted.org/packages/ef/7d/500c9ad20238fcfcb4cb9243eede163594d7020ce87bd9610c9e02771876/pip-24.3.1-py3-none-any.whl.metadata\n",
      "  Downloading pip-24.3.1-py3-none-any.whl.metadata (3.7 kB)\n",
      "Downloading pip-24.3.1-py3-none-any.whl (1.8 MB)\n",
      "   ---------------------------------------- 0.0/1.8 MB ? eta -:--:--\n",
      "   ---------------------------------------- 0.0/1.8 MB ? eta -:--:--\n",
      "    --------------------------------------- 0.0/1.8 MB 487.6 kB/s eta 0:00:04\n",
      "   --- ------------------------------------ 0.1/1.8 MB 1.2 MB/s eta 0:00:02\n",
      "   ------- -------------------------------- 0.3/1.8 MB 2.4 MB/s eta 0:00:01\n",
      "   ----------- ---------------------------- 0.5/1.8 MB 2.6 MB/s eta 0:00:01\n",
      "   ----------- ---------------------------- 0.5/1.8 MB 2.6 MB/s eta 0:00:01\n",
      "   ------------------- -------------------- 0.9/1.8 MB 3.0 MB/s eta 0:00:01\n",
      "   ------------------------ --------------- 1.1/1.8 MB 3.4 MB/s eta 0:00:01\n",
      "   ------------------------- -------------- 1.2/1.8 MB 3.2 MB/s eta 0:00:01\n",
      "   --------------------------------- ------ 1.5/1.8 MB 3.6 MB/s eta 0:00:01\n",
      "   ---------------------------------- ----- 1.6/1.8 MB 3.6 MB/s eta 0:00:01\n",
      "   ---------------------------------------- 1.8/1.8 MB 3.6 MB/s eta 0:00:00\n"
     ]
    },
    {
     "name": "stderr",
     "output_type": "stream",
     "text": [
      "ERROR: To modify pip, please run the following command:\n",
      "C:\\Users\\conca\\Documents\\progetti\\progettoUIT\\ispirazione8_pyglet\\UITProject\\venv\\Scripts\\python.exe -m pip install --upgrade pip\n",
      "\n",
      "[notice] A new release of pip is available: 23.2.1 -> 24.3.1\n",
      "[notice] To update, run: python.exe -m pip install --upgrade pip\n"
     ]
    },
    {
     "name": "stdout",
     "output_type": "stream",
     "text": [
      "Collecting mediapipe-model-maker\n",
      "  Obtaining dependency information for mediapipe-model-maker from https://files.pythonhosted.org/packages/77/67/8f957d62173f9230767f4395f10b5a018d94a8f0800555564453e9853079/mediapipe_model_maker-0.2.1.4-py3-none-any.whl.metadata\n",
      "  Downloading mediapipe_model_maker-0.2.1.4-py3-none-any.whl.metadata (1.7 kB)\n",
      "Requirement already satisfied: absl-py in c:\\users\\conca\\documents\\progetti\\progettouit\\ispirazione8_pyglet\\uitproject\\venv\\lib\\site-packages (from mediapipe-model-maker) (2.1.0)\n",
      "Requirement already satisfied: mediapipe>=0.10.0 in c:\\users\\conca\\documents\\progetti\\progettouit\\ispirazione8_pyglet\\uitproject\\venv\\lib\\site-packages (from mediapipe-model-maker) (0.10.14)\n",
      "Requirement already satisfied: numpy in c:\\users\\conca\\documents\\progetti\\progettouit\\ispirazione8_pyglet\\uitproject\\venv\\lib\\site-packages (from mediapipe-model-maker) (1.24.3)\n",
      "Requirement already satisfied: opencv-python in c:\\users\\conca\\documents\\progetti\\progettouit\\ispirazione8_pyglet\\uitproject\\venv\\lib\\site-packages (from mediapipe-model-maker) (4.10.0.84)\n",
      "Collecting tensorflow<2.16,>=2.10 (from mediapipe-model-maker)\n",
      "  Obtaining dependency information for tensorflow<2.16,>=2.10 from https://files.pythonhosted.org/packages/cb/c5/f5b31ee348459d6f6c54d762488aa0a8e42ff11a7395f4d158915ad43000/tensorflow-2.15.1-cp311-cp311-win_amd64.whl.metadata\n",
      "  Using cached tensorflow-2.15.1-cp311-cp311-win_amd64.whl.metadata (3.4 kB)\n",
      "Collecting tensorflow-addons (from mediapipe-model-maker)\n",
      "  Obtaining dependency information for tensorflow-addons from https://files.pythonhosted.org/packages/ec/52/047d768c4669db0c059109a88c21a3c71bcda957c46f13967e44b8c7fa4c/tensorflow_addons-0.22.0-cp311-cp311-win_amd64.whl.metadata\n",
      "  Downloading tensorflow_addons-0.22.0-cp311-cp311-win_amd64.whl.metadata (1.8 kB)\n",
      "Collecting tensorflow-datasets (from mediapipe-model-maker)\n",
      "  Obtaining dependency information for tensorflow-datasets from https://files.pythonhosted.org/packages/43/e6/a85c9a2d8ce72c09c8c8bf231c75e6e12e0e0848df336b28d1ec0beae1fe/tensorflow_datasets-4.9.7-py3-none-any.whl.metadata\n",
      "  Downloading tensorflow_datasets-4.9.7-py3-none-any.whl.metadata (9.6 kB)\n",
      "Collecting tensorflow-hub (from mediapipe-model-maker)\n",
      "  Obtaining dependency information for tensorflow-hub from https://files.pythonhosted.org/packages/e5/50/00dba77925bf2a0a1e45d7bcf8a69a1d2534fb4bb277d9010bd148d2235e/tensorflow_hub-0.16.1-py2.py3-none-any.whl.metadata\n",
      "  Downloading tensorflow_hub-0.16.1-py2.py3-none-any.whl.metadata (1.3 kB)\n",
      "Collecting tensorflow-model-optimization<0.8.0 (from mediapipe-model-maker)\n",
      "  Obtaining dependency information for tensorflow-model-optimization<0.8.0 from https://files.pythonhosted.org/packages/cf/8b/a63b45b3f53947bda130f5feb28e88d20b6b0306ed02150399e43356b057/tensorflow_model_optimization-0.7.5-py2.py3-none-any.whl.metadata\n",
      "  Downloading tensorflow_model_optimization-0.7.5-py2.py3-none-any.whl.metadata (914 bytes)\n",
      "INFO: pip is looking at multiple versions of mediapipe-model-maker to determine which version is compatible with other requirements. This could take a while.\n",
      "Collecting mediapipe-model-maker\n",
      "  Obtaining dependency information for mediapipe-model-maker from https://files.pythonhosted.org/packages/9a/f4/26b03c5b5cacd9bcbaf06a906915f56d6b7cd7276c28c246db4a42c1f35b/mediapipe_model_maker-0.2.1.3-py3-none-any.whl.metadata\n",
      "  Downloading mediapipe_model_maker-0.2.1.3-py3-none-any.whl.metadata (1.6 kB)\n",
      "Collecting tensorflow>=2.10 (from mediapipe-model-maker)\n",
      "  Obtaining dependency information for tensorflow>=2.10 from https://files.pythonhosted.org/packages/cf/24/271e77c22724f370c24c705f394b8035b4d27e4c2c6339f3f45ab9b8258e/tensorflow-2.18.0-cp311-cp311-win_amd64.whl.metadata\n",
      "  Using cached tensorflow-2.18.0-cp311-cp311-win_amd64.whl.metadata (3.3 kB)\n",
      "Collecting tf-models-official>=2.13.1 (from mediapipe-model-maker)\n",
      "  Obtaining dependency information for tf-models-official>=2.13.1 from https://files.pythonhosted.org/packages/59/42/ae322e4c920936a042f29e453e26845e11d3b75b60aab082de4120fe5aa3/tf_models_official-2.18.0-py2.py3-none-any.whl.metadata\n",
      "  Downloading tf_models_official-2.18.0-py2.py3-none-any.whl.metadata (1.5 kB)\n",
      "Requirement already satisfied: attrs>=19.1.0 in c:\\users\\conca\\documents\\progetti\\progettouit\\ispirazione8_pyglet\\uitproject\\venv\\lib\\site-packages (from mediapipe>=0.10.0->mediapipe-model-maker) (24.2.0)\n",
      "Requirement already satisfied: flatbuffers>=2.0 in c:\\users\\conca\\documents\\progetti\\progettouit\\ispirazione8_pyglet\\uitproject\\venv\\lib\\site-packages (from mediapipe>=0.10.0->mediapipe-model-maker) (24.3.25)\n",
      "Requirement already satisfied: jax in c:\\users\\conca\\documents\\progetti\\progettouit\\ispirazione8_pyglet\\uitproject\\venv\\lib\\site-packages (from mediapipe>=0.10.0->mediapipe-model-maker) (0.4.35)\n",
      "Requirement already satisfied: jaxlib in c:\\users\\conca\\documents\\progetti\\progettouit\\ispirazione8_pyglet\\uitproject\\venv\\lib\\site-packages (from mediapipe>=0.10.0->mediapipe-model-maker) (0.4.35)\n",
      "Requirement already satisfied: matplotlib in c:\\users\\conca\\documents\\progetti\\progettouit\\ispirazione8_pyglet\\uitproject\\venv\\lib\\site-packages (from mediapipe>=0.10.0->mediapipe-model-maker) (3.9.2)\n",
      "Requirement already satisfied: opencv-contrib-python in c:\\users\\conca\\documents\\progetti\\progettouit\\ispirazione8_pyglet\\uitproject\\venv\\lib\\site-packages (from mediapipe>=0.10.0->mediapipe-model-maker) (4.10.0.84)\n",
      "Requirement already satisfied: protobuf<5,>=4.25.3 in c:\\users\\conca\\documents\\progetti\\progettouit\\ispirazione8_pyglet\\uitproject\\venv\\lib\\site-packages (from mediapipe>=0.10.0->mediapipe-model-maker) (4.25.5)\n",
      "Requirement already satisfied: sounddevice>=0.4.4 in c:\\users\\conca\\documents\\progetti\\progettouit\\ispirazione8_pyglet\\uitproject\\venv\\lib\\site-packages (from mediapipe>=0.10.0->mediapipe-model-maker) (0.5.1)\n",
      "Collecting tensorflow-intel==2.18.0 (from tensorflow>=2.10->mediapipe-model-maker)\n",
      "  Obtaining dependency information for tensorflow-intel==2.18.0 from https://files.pythonhosted.org/packages/76/ad/fa6c508a15ff79cb5409294c293388e0999b7d480f84b65e4287277434fe/tensorflow_intel-2.18.0-cp311-cp311-win_amd64.whl.metadata\n",
      "  Using cached tensorflow_intel-2.18.0-cp311-cp311-win_amd64.whl.metadata (4.9 kB)\n",
      "Requirement already satisfied: astunparse>=1.6.0 in c:\\users\\conca\\documents\\progetti\\progettouit\\ispirazione8_pyglet\\uitproject\\venv\\lib\\site-packages (from tensorflow-intel==2.18.0->tensorflow>=2.10->mediapipe-model-maker) (1.6.3)\n",
      "Requirement already satisfied: gast!=0.5.0,!=0.5.1,!=0.5.2,>=0.2.1 in c:\\users\\conca\\documents\\progetti\\progettouit\\ispirazione8_pyglet\\uitproject\\venv\\lib\\site-packages (from tensorflow-intel==2.18.0->tensorflow>=2.10->mediapipe-model-maker) (0.4.0)\n",
      "Requirement already satisfied: google-pasta>=0.1.1 in c:\\users\\conca\\documents\\progetti\\progettouit\\ispirazione8_pyglet\\uitproject\\venv\\lib\\site-packages (from tensorflow-intel==2.18.0->tensorflow>=2.10->mediapipe-model-maker) (0.2.0)\n",
      "Requirement already satisfied: libclang>=13.0.0 in c:\\users\\conca\\documents\\progetti\\progettouit\\ispirazione8_pyglet\\uitproject\\venv\\lib\\site-packages (from tensorflow-intel==2.18.0->tensorflow>=2.10->mediapipe-model-maker) (18.1.1)\n",
      "Requirement already satisfied: opt-einsum>=2.3.2 in c:\\users\\conca\\documents\\progetti\\progettouit\\ispirazione8_pyglet\\uitproject\\venv\\lib\\site-packages (from tensorflow-intel==2.18.0->tensorflow>=2.10->mediapipe-model-maker) (3.4.0)\n",
      "Requirement already satisfied: packaging in c:\\users\\conca\\documents\\progetti\\progettouit\\ispirazione8_pyglet\\uitproject\\venv\\lib\\site-packages (from tensorflow-intel==2.18.0->tensorflow>=2.10->mediapipe-model-maker) (24.1)\n",
      "Requirement already satisfied: requests<3,>=2.21.0 in c:\\users\\conca\\documents\\progetti\\progettouit\\ispirazione8_pyglet\\uitproject\\venv\\lib\\site-packages (from tensorflow-intel==2.18.0->tensorflow>=2.10->mediapipe-model-maker) (2.32.3)\n",
      "Requirement already satisfied: setuptools in c:\\users\\conca\\documents\\progetti\\progettouit\\ispirazione8_pyglet\\uitproject\\venv\\lib\\site-packages (from tensorflow-intel==2.18.0->tensorflow>=2.10->mediapipe-model-maker) (68.2.0)\n",
      "Requirement already satisfied: six>=1.12.0 in c:\\users\\conca\\documents\\progetti\\progettouit\\ispirazione8_pyglet\\uitproject\\venv\\lib\\site-packages (from tensorflow-intel==2.18.0->tensorflow>=2.10->mediapipe-model-maker) (1.16.0)\n",
      "Requirement already satisfied: termcolor>=1.1.0 in c:\\users\\conca\\documents\\progetti\\progettouit\\ispirazione8_pyglet\\uitproject\\venv\\lib\\site-packages (from tensorflow-intel==2.18.0->tensorflow>=2.10->mediapipe-model-maker) (2.5.0)\n",
      "Requirement already satisfied: typing-extensions>=3.6.6 in c:\\users\\conca\\documents\\progetti\\progettouit\\ispirazione8_pyglet\\uitproject\\venv\\lib\\site-packages (from tensorflow-intel==2.18.0->tensorflow>=2.10->mediapipe-model-maker) (4.12.2)\n",
      "Requirement already satisfied: wrapt>=1.11.0 in c:\\users\\conca\\documents\\progetti\\progettouit\\ispirazione8_pyglet\\uitproject\\venv\\lib\\site-packages (from tensorflow-intel==2.18.0->tensorflow>=2.10->mediapipe-model-maker) (1.16.0)\n",
      "Requirement already satisfied: grpcio<2.0,>=1.24.3 in c:\\users\\conca\\documents\\progetti\\progettouit\\ispirazione8_pyglet\\uitproject\\venv\\lib\\site-packages (from tensorflow-intel==2.18.0->tensorflow>=2.10->mediapipe-model-maker) (1.67.0)\n",
      "Collecting tensorboard<2.19,>=2.18 (from tensorflow-intel==2.18.0->tensorflow>=2.10->mediapipe-model-maker)\n",
      "  Obtaining dependency information for tensorboard<2.19,>=2.18 from https://files.pythonhosted.org/packages/b1/de/021c1d407befb505791764ad2cbd56ceaaa53a746baed01d2e2143f05f18/tensorboard-2.18.0-py3-none-any.whl.metadata\n",
      "  Using cached tensorboard-2.18.0-py3-none-any.whl.metadata (1.6 kB)\n",
      "Collecting keras>=3.5.0 (from tensorflow-intel==2.18.0->tensorflow>=2.10->mediapipe-model-maker)\n",
      "  Obtaining dependency information for keras>=3.5.0 from https://files.pythonhosted.org/packages/c2/88/eef50051a772dcb4433d1f3e4c1d6576ba450fe83e89d028d7e8b85a2122/keras-3.6.0-py3-none-any.whl.metadata\n",
      "  Using cached keras-3.6.0-py3-none-any.whl.metadata (5.8 kB)\n",
      "Collecting numpy (from mediapipe-model-maker)\n",
      "  Obtaining dependency information for numpy from https://files.pythonhosted.org/packages/eb/57/3a3f14d3a759dcf9bf6e9eda905794726b758819df4663f217d658a58695/numpy-2.0.2-cp311-cp311-win_amd64.whl.metadata\n",
      "  Using cached numpy-2.0.2-cp311-cp311-win_amd64.whl.metadata (59 kB)\n",
      "Requirement already satisfied: h5py>=3.11.0 in c:\\users\\conca\\documents\\progetti\\progettouit\\ispirazione8_pyglet\\uitproject\\venv\\lib\\site-packages (from tensorflow-intel==2.18.0->tensorflow>=2.10->mediapipe-model-maker) (3.12.1)\n",
      "Requirement already satisfied: ml-dtypes<0.5.0,>=0.4.0 in c:\\users\\conca\\documents\\progetti\\progettouit\\ispirazione8_pyglet\\uitproject\\venv\\lib\\site-packages (from tensorflow-intel==2.18.0->tensorflow>=2.10->mediapipe-model-maker) (0.4.1)\n",
      "Requirement already satisfied: tensorflow-io-gcs-filesystem>=0.23.1 in c:\\users\\conca\\documents\\progetti\\progettouit\\ispirazione8_pyglet\\uitproject\\venv\\lib\\site-packages (from tensorflow-intel==2.18.0->tensorflow>=2.10->mediapipe-model-maker) (0.31.0)\n",
      "Collecting Cython (from tf-models-official>=2.13.1->mediapipe-model-maker)\n",
      "  Obtaining dependency information for Cython from https://files.pythonhosted.org/packages/fd/10/236fcc0306f85a2db1b8bc147aea714b66a2f27bac4d9e09e5b2c5d5dcca/Cython-3.0.11-cp311-cp311-win_amd64.whl.metadata\n",
      "  Downloading Cython-3.0.11-cp311-cp311-win_amd64.whl.metadata (3.2 kB)\n",
      "Requirement already satisfied: Pillow in c:\\users\\conca\\documents\\progetti\\progettouit\\ispirazione8_pyglet\\uitproject\\venv\\lib\\site-packages (from tf-models-official>=2.13.1->mediapipe-model-maker) (11.0.0)\n",
      "INFO: pip is looking at multiple versions of tf-models-official to determine which version is compatible with other requirements. This could take a while.\n",
      "Collecting tf-models-official>=2.13.1 (from mediapipe-model-maker)\n",
      "  Obtaining dependency information for tf-models-official>=2.13.1 from https://files.pythonhosted.org/packages/38/79/18a7380e0f5f7961a03939e907d115eacb06253d8fbb4252cc4f0a09b642/tf_models_official-2.17.0-py2.py3-none-any.whl.metadata\n",
      "  Downloading tf_models_official-2.17.0-py2.py3-none-any.whl.metadata (1.4 kB)\n",
      "Collecting gin-config (from tf-models-official>=2.13.1->mediapipe-model-maker)\n",
      "  Obtaining dependency information for gin-config from https://files.pythonhosted.org/packages/11/8f/9f1894efa1bb15e98613244b24dfbacfe2309e0ac3cfc27d4c608c2270d2/gin_config-0.5.0-py3-none-any.whl.metadata\n",
      "  Downloading gin_config-0.5.0-py3-none-any.whl.metadata (2.9 kB)\n",
      "Collecting google-api-python-client>=1.6.7 (from tf-models-official>=2.13.1->mediapipe-model-maker)\n",
      "  Obtaining dependency information for google-api-python-client>=1.6.7 from https://files.pythonhosted.org/packages/56/3f/adf5f6b963307765209fc27943516c7c605d250234b01899d524b8f01fe3/google_api_python_client-2.154.0-py2.py3-none-any.whl.metadata\n",
      "  Downloading google_api_python_client-2.154.0-py2.py3-none-any.whl.metadata (6.7 kB)\n",
      "Collecting immutabledict (from tf-models-official>=2.13.1->mediapipe-model-maker)\n",
      "  Obtaining dependency information for immutabledict from https://files.pythonhosted.org/packages/59/56/25ca7b848164b7d93dbd5fc97dd7751700c93e324fe854afbeb562ee2f98/immutabledict-4.2.1-py3-none-any.whl.metadata\n",
      "  Downloading immutabledict-4.2.1-py3-none-any.whl.metadata (3.5 kB)\n",
      "Collecting kaggle>=1.3.9 (from tf-models-official>=2.13.1->mediapipe-model-maker)\n",
      "  Downloading kaggle-1.6.17.tar.gz (82 kB)\n",
      "     ---------------------------------------- 0.0/82.7 kB ? eta -:--:--\n",
      "     ---------------------------------------- 82.7/82.7 kB 4.8 MB/s eta 0:00:00\n",
      "  Preparing metadata (setup.py): started\n",
      "  Preparing metadata (setup.py): finished with status 'done'\n",
      "Collecting oauth2client (from tf-models-official>=2.13.1->mediapipe-model-maker)\n",
      "  Obtaining dependency information for oauth2client from https://files.pythonhosted.org/packages/95/a9/4f25a14d23f0786b64875b91784607c2277eff25d48f915e39ff0cff505a/oauth2client-4.1.3-py2.py3-none-any.whl.metadata\n",
      "  Downloading oauth2client-4.1.3-py2.py3-none-any.whl.metadata (1.2 kB)\n",
      "Collecting opencv-python-headless (from tf-models-official>=2.13.1->mediapipe-model-maker)\n",
      "  Obtaining dependency information for opencv-python-headless from https://files.pythonhosted.org/packages/26/d0/22f68eb23eea053a31655960f133c0be9726c6a881547e6e9e7e2a946c4f/opencv_python_headless-4.10.0.84-cp37-abi3-win_amd64.whl.metadata\n",
      "  Downloading opencv_python_headless-4.10.0.84-cp37-abi3-win_amd64.whl.metadata (20 kB)\n",
      "Collecting pandas>=0.22.0 (from tf-models-official>=2.13.1->mediapipe-model-maker)\n",
      "  Obtaining dependency information for pandas>=0.22.0 from https://files.pythonhosted.org/packages/ed/8c/87ddf1fcb55d11f9f847e3c69bb1c6f8e46e2f40ab1a2d2abadb2401b007/pandas-2.2.3-cp311-cp311-win_amd64.whl.metadata\n",
      "  Using cached pandas-2.2.3-cp311-cp311-win_amd64.whl.metadata (19 kB)\n",
      "Requirement already satisfied: psutil>=5.4.3 in c:\\users\\conca\\documents\\progetti\\progettouit\\ispirazione8_pyglet\\uitproject\\venv\\lib\\site-packages (from tf-models-official>=2.13.1->mediapipe-model-maker) (6.1.0)\n",
      "Collecting py-cpuinfo>=3.3.0 (from tf-models-official>=2.13.1->mediapipe-model-maker)\n",
      "  Obtaining dependency information for py-cpuinfo>=3.3.0 from https://files.pythonhosted.org/packages/e0/a9/023730ba63db1e494a271cb018dcd361bd2c917ba7004c3e49d5daf795a2/py_cpuinfo-9.0.0-py3-none-any.whl.metadata\n",
      "  Downloading py_cpuinfo-9.0.0-py3-none-any.whl.metadata (794 bytes)\n",
      "Collecting pycocotools (from tf-models-official>=2.13.1->mediapipe-model-maker)\n",
      "  Obtaining dependency information for pycocotools from https://files.pythonhosted.org/packages/2e/f5/dfa78dc72e47dfe1ada7b37fedcb338454750470358a6dfcfdfda35fa337/pycocotools-2.0.8-cp311-cp311-win_amd64.whl.metadata\n",
      "  Downloading pycocotools-2.0.8-cp311-cp311-win_amd64.whl.metadata (1.1 kB)\n",
      "Requirement already satisfied: pyyaml>=6.0.0 in c:\\users\\conca\\documents\\progetti\\progettouit\\ispirazione8_pyglet\\uitproject\\venv\\lib\\site-packages (from tf-models-official>=2.13.1->mediapipe-model-maker) (6.0.2)\n",
      "Collecting sacrebleu (from tf-models-official>=2.13.1->mediapipe-model-maker)\n",
      "  Obtaining dependency information for sacrebleu from https://files.pythonhosted.org/packages/15/d8/e51d35bc863caa19ddeae48dfb890581a19326973ad1c9fa5dcfc63310f7/sacrebleu-2.4.3-py3-none-any.whl.metadata\n",
      "  Downloading sacrebleu-2.4.3-py3-none-any.whl.metadata (51 kB)\n",
      "     ---------------------------------------- 0.0/51.8 kB ? eta -:--:--\n",
      "     ---------------------------------------- 51.8/51.8 kB 2.6 MB/s eta 0:00:00\n",
      "Requirement already satisfied: scipy>=0.19.1 in c:\\users\\conca\\documents\\progetti\\progettouit\\ispirazione8_pyglet\\uitproject\\venv\\lib\\site-packages (from tf-models-official>=2.13.1->mediapipe-model-maker) (1.14.1)\n",
      "Collecting sentencepiece (from tf-models-official>=2.13.1->mediapipe-model-maker)\n",
      "  Obtaining dependency information for sentencepiece from https://files.pythonhosted.org/packages/a2/f6/587c62fd21fc988555b85351f50bbde43a51524caafd63bc69240ded14fd/sentencepiece-0.2.0-cp311-cp311-win_amd64.whl.metadata\n",
      "  Downloading sentencepiece-0.2.0-cp311-cp311-win_amd64.whl.metadata (8.3 kB)\n",
      "Collecting seqeval (from tf-models-official>=2.13.1->mediapipe-model-maker)\n",
      "  Downloading seqeval-1.2.2.tar.gz (43 kB)\n",
      "     ---------------------------------------- 0.0/43.6 kB ? eta -:--:--\n",
      "     ---------------------------------------- 0.0/43.6 kB ? eta -:--:--\n",
      "     ---------------------------------------- 0.0/43.6 kB ? eta -:--:--\n",
      "     ---------------------------------------- 0.0/43.6 kB ? eta -:--:--\n",
      "     ---------------------------------------- 0.0/43.6 kB ? eta -:--:--\n",
      "     ---------------------------------------- 43.6/43.6 kB 2.2 MB/s eta 0:00:00\n",
      "  Preparing metadata (setup.py): started\n",
      "  Preparing metadata (setup.py): finished with status 'done'\n",
      "Collecting tensorflow-model-optimization>=0.4.1 (from tf-models-official>=2.13.1->mediapipe-model-maker)\n",
      "  Obtaining dependency information for tensorflow-model-optimization>=0.4.1 from https://files.pythonhosted.org/packages/5a/a0/f38c9ce977285d3f347f6d64cf227924fe9fc97d780d6df4a55563e311af/tensorflow_model_optimization-0.8.0-py2.py3-none-any.whl.metadata\n",
      "  Downloading tensorflow_model_optimization-0.8.0-py2.py3-none-any.whl.metadata (904 bytes)\n",
      "Collecting tf-models-official>=2.13.1 (from mediapipe-model-maker)\n",
      "  Obtaining dependency information for tf-models-official>=2.13.1 from https://files.pythonhosted.org/packages/a2/fa/6e335dce23cabebfc996b37a50b71d9bba1f47e483753501704e78fe31a1/tf_models_official-2.16.0-py2.py3-none-any.whl.metadata\n",
      "  Downloading tf_models_official-2.16.0-py2.py3-none-any.whl.metadata (1.4 kB)\n",
      "  Obtaining dependency information for tf-models-official>=2.13.1 from https://files.pythonhosted.org/packages/39/84/fa71440981a298a9a9fa02319e9b43bbe98dafe4e0a91846d679814cd6d4/tf_models_official-2.15.0-py2.py3-none-any.whl.metadata\n",
      "  Downloading tf_models_official-2.15.0-py2.py3-none-any.whl.metadata (1.4 kB)\n",
      "  Obtaining dependency information for tf-models-official>=2.13.1 from https://files.pythonhosted.org/packages/a8/df/c7c5c15af9b769dfbede372f8e9165e58ed113cddef2abbf5b4bf2fe9aa5/tf_models_official-2.14.2-py2.py3-none-any.whl.metadata\n",
      "  Downloading tf_models_official-2.14.2-py2.py3-none-any.whl.metadata (1.4 kB)\n",
      "  Obtaining dependency information for tf-models-official>=2.13.1 from https://files.pythonhosted.org/packages/ac/2f/adeac894e230110ec7574759d02ede7067107bdef572b071c74dfb82f1f3/tf_models_official-2.14.1-py2.py3-none-any.whl.metadata\n",
      "  Downloading tf_models_official-2.14.1-py2.py3-none-any.whl.metadata (1.4 kB)\n",
      "  Obtaining dependency information for tf-models-official>=2.13.1 from https://files.pythonhosted.org/packages/7b/73/b63c17a91ac87ad18f82abc3ec3ce0817f17990bb247a0b6dd82a32e9072/tf_models_official-2.14.0-py2.py3-none-any.whl.metadata\n",
      "  Downloading tf_models_official-2.14.0-py2.py3-none-any.whl.metadata (1.4 kB)\n",
      "  Obtaining dependency information for tf-models-official>=2.13.1 from https://files.pythonhosted.org/packages/d8/c3/4511e49412492966f4e6e0a20b41ae66d027e5a76e8c2b436b591ecc4273/tf_models_official-2.13.2-py2.py3-none-any.whl.metadata\n",
      "  Downloading tf_models_official-2.13.2-py2.py3-none-any.whl.metadata (1.4 kB)\n",
      "INFO: pip is still looking at multiple versions of tf-models-official to determine which version is compatible with other requirements. This could take a while.\n",
      "  Obtaining dependency information for tf-models-official>=2.13.1 from https://files.pythonhosted.org/packages/c9/c6/881f37a807affc009ccf84dfd9964b622e91e664f23a1cec1e443aa66ed1/tf_models_official-2.13.1-py2.py3-none-any.whl.metadata\n",
      "  Downloading tf_models_official-2.13.1-py2.py3-none-any.whl.metadata (1.4 kB)\n",
      "Collecting pyyaml<5.4.0,>=5.1 (from tf-models-official>=2.13.1->mediapipe-model-maker)\n",
      "  Downloading PyYAML-5.3.1.tar.gz (269 kB)\n",
      "     ---------------------------------------- 0.0/269.4 kB ? eta -:--:--\n",
      "     - -------------------------------------- 10.2/269.4 kB ? eta -:--:--\n",
      "     ---- -------------------------------- 30.7/269.4 kB 435.7 kB/s eta 0:00:01\n",
      "     --------- --------------------------- 71.7/269.4 kB 653.6 kB/s eta 0:00:01\n",
      "     ------------ ------------------------ 92.2/269.4 kB 751.6 kB/s eta 0:00:01\n",
      "     ---------------- ------------------- 122.9/269.4 kB 602.4 kB/s eta 0:00:01\n",
      "     -------------------- --------------- 153.6/269.4 kB 654.6 kB/s eta 0:00:01\n",
      "     ------------------------------ ----- 225.3/269.4 kB 765.3 kB/s eta 0:00:01\n",
      "     ------------------------------------ 269.4/269.4 kB 830.6 kB/s eta 0:00:00\n",
      "  Preparing metadata (setup.py): started\n",
      "  Preparing metadata (setup.py): finished with status 'done'\n",
      "Collecting mediapipe-model-maker\n",
      "  Obtaining dependency information for mediapipe-model-maker from https://files.pythonhosted.org/packages/a3/0b/2731e55124eb4b2b9a8209b59b4acc6f3067c59b6c9e31a7ea9f758fc6db/mediapipe_model_maker-0.2.1.2-py3-none-any.whl.metadata\n",
      "  Downloading mediapipe_model_maker-0.2.1.2-py3-none-any.whl.metadata (1.6 kB)\n",
      "INFO: This is taking longer than usual. You might need to provide the dependency resolver with stricter constraints to reduce runtime. See https://pip.pypa.io/warnings/backtracking for guidance. If you want to abort this run, press Ctrl + C.\n",
      "  Obtaining dependency information for mediapipe-model-maker from https://files.pythonhosted.org/packages/4d/50/745c6e0bb870d70104464e3aa6a6d2c077fcb40be9ca6710b12ccdc2da9b/mediapipe_model_maker-0.2.1.1-py3-none-any.whl.metadata\n",
      "  Downloading mediapipe_model_maker-0.2.1.1-py3-none-any.whl.metadata (1.6 kB)\n",
      "  Obtaining dependency information for mediapipe-model-maker from https://files.pythonhosted.org/packages/4a/8f/14359a17ff748beec81bd1b6d438e0fee8174a92955c93452ad5f290f4cd/mediapipe_model_maker-0.2.1-py3-none-any.whl.metadata\n",
      "  Downloading mediapipe_model_maker-0.2.1-py3-none-any.whl.metadata (1.6 kB)\n",
      "  Obtaining dependency information for mediapipe-model-maker from https://files.pythonhosted.org/packages/41/77/3d98a6d29441582b776acc685555edbc2334f4ecdaf4661770666bf56151/mediapipe_model_maker-0.2.0-py3-none-any.whl.metadata\n",
      "  Downloading mediapipe_model_maker-0.2.0-py3-none-any.whl.metadata (1.5 kB)\n",
      "Collecting tf-models-official==2.11.6 (from mediapipe-model-maker)\n",
      "  Obtaining dependency information for tf-models-official==2.11.6 from https://files.pythonhosted.org/packages/c2/7d/653826c2a911ade98af38f098e2d474d2c399a96bc0a4892f9fb22689296/tf_models_official-2.11.6-py2.py3-none-any.whl.metadata\n",
      "  Downloading tf_models_official-2.11.6-py2.py3-none-any.whl.metadata (1.5 kB)\n",
      "Collecting pyyaml<6.0,>=5.1 (from tf-models-official==2.11.6->mediapipe-model-maker)\n",
      "  Downloading PyYAML-5.4.1.tar.gz (175 kB)\n",
      "     ---------------------------------------- 0.0/175.1 kB ? eta -:--:--\n",
      "     --------------- ----------------------- 71.7/175.1 kB 2.0 MB/s eta 0:00:01\n",
      "     ------------------------------- ------ 143.4/175.1 kB 1.7 MB/s eta 0:00:01\n",
      "     -------------------------------------- 175.1/175.1 kB 1.5 MB/s eta 0:00:00\n",
      "  Installing build dependencies: started\n",
      "  Installing build dependencies: finished with status 'done'\n",
      "  Getting requirements to build wheel: started\n",
      "  Getting requirements to build wheel: finished with status 'error'\n"
     ]
    },
    {
     "name": "stderr",
     "output_type": "stream",
     "text": [
      "  error: subprocess-exited-with-error\n",
      "  \n",
      "  Getting requirements to build wheel did not run successfully.\n",
      "  exit code: 1\n",
      "  \n",
      "  [54 lines of output]\n",
      "  running egg_info\n",
      "  writing lib3\\PyYAML.egg-info\\PKG-INFO\n",
      "  writing dependency_links to lib3\\PyYAML.egg-info\\dependency_links.txt\n",
      "  writing top-level names to lib3\\PyYAML.egg-info\\top_level.txt\n",
      "  Traceback (most recent call last):\n",
      "    File \"C:\\Users\\conca\\Documents\\progetti\\progettoUIT\\ispirazione8_pyglet\\UITProject\\venv\\Lib\\site-packages\\pip\\_vendor\\pyproject_hooks\\_in_process\\_in_process.py\", line 353, in <module>\n",
      "      main()\n",
      "    File \"C:\\Users\\conca\\Documents\\progetti\\progettoUIT\\ispirazione8_pyglet\\UITProject\\venv\\Lib\\site-packages\\pip\\_vendor\\pyproject_hooks\\_in_process\\_in_process.py\", line 335, in main\n",
      "      json_out['return_val'] = hook(**hook_input['kwargs'])\n",
      "                               ^^^^^^^^^^^^^^^^^^^^^^^^^^^^\n",
      "    File \"C:\\Users\\conca\\Documents\\progetti\\progettoUIT\\ispirazione8_pyglet\\UITProject\\venv\\Lib\\site-packages\\pip\\_vendor\\pyproject_hooks\\_in_process\\_in_process.py\", line 118, in get_requires_for_build_wheel\n",
      "      return hook(config_settings)\n",
      "             ^^^^^^^^^^^^^^^^^^^^^\n",
      "    File \"C:\\Users\\conca\\AppData\\Local\\Temp\\pip-build-env-3b0fsnjc\\overlay\\Lib\\site-packages\\setuptools\\build_meta.py\", line 334, in get_requires_for_build_wheel\n",
      "      return self._get_build_requires(config_settings, requirements=[])\n",
      "             ^^^^^^^^^^^^^^^^^^^^^^^^^^^^^^^^^^^^^^^^^^^^^^^^^^^^^^^^^^\n",
      "    File \"C:\\Users\\conca\\AppData\\Local\\Temp\\pip-build-env-3b0fsnjc\\overlay\\Lib\\site-packages\\setuptools\\build_meta.py\", line 304, in _get_build_requires\n",
      "      self.run_setup()\n",
      "    File \"C:\\Users\\conca\\AppData\\Local\\Temp\\pip-build-env-3b0fsnjc\\overlay\\Lib\\site-packages\\setuptools\\build_meta.py\", line 320, in run_setup\n",
      "      exec(code, locals())\n",
      "    File \"<string>\", line 271, in <module>\n",
      "    File \"C:\\Users\\conca\\AppData\\Local\\Temp\\pip-build-env-3b0fsnjc\\overlay\\Lib\\site-packages\\setuptools\\__init__.py\", line 117, in setup\n",
      "      return distutils.core.setup(**attrs)\n",
      "             ^^^^^^^^^^^^^^^^^^^^^^^^^^^^^\n",
      "    File \"C:\\Users\\conca\\AppData\\Local\\Temp\\pip-build-env-3b0fsnjc\\overlay\\Lib\\site-packages\\setuptools\\_distutils\\core.py\", line 183, in setup\n",
      "      return run_commands(dist)\n",
      "             ^^^^^^^^^^^^^^^^^^\n",
      "    File \"C:\\Users\\conca\\AppData\\Local\\Temp\\pip-build-env-3b0fsnjc\\overlay\\Lib\\site-packages\\setuptools\\_distutils\\core.py\", line 199, in run_commands\n",
      "      dist.run_commands()\n",
      "    File \"C:\\Users\\conca\\AppData\\Local\\Temp\\pip-build-env-3b0fsnjc\\overlay\\Lib\\site-packages\\setuptools\\_distutils\\dist.py\", line 954, in run_commands\n",
      "      self.run_command(cmd)\n",
      "    File \"C:\\Users\\conca\\AppData\\Local\\Temp\\pip-build-env-3b0fsnjc\\overlay\\Lib\\site-packages\\setuptools\\dist.py\", line 995, in run_command\n",
      "      super().run_command(command)\n",
      "    File \"C:\\Users\\conca\\AppData\\Local\\Temp\\pip-build-env-3b0fsnjc\\overlay\\Lib\\site-packages\\setuptools\\_distutils\\dist.py\", line 973, in run_command\n",
      "      cmd_obj.run()\n",
      "    File \"C:\\Users\\conca\\AppData\\Local\\Temp\\pip-build-env-3b0fsnjc\\overlay\\Lib\\site-packages\\setuptools\\command\\egg_info.py\", line 313, in run\n",
      "      self.find_sources()\n",
      "    File \"C:\\Users\\conca\\AppData\\Local\\Temp\\pip-build-env-3b0fsnjc\\overlay\\Lib\\site-packages\\setuptools\\command\\egg_info.py\", line 321, in find_sources\n",
      "      mm.run()\n",
      "    File \"C:\\Users\\conca\\AppData\\Local\\Temp\\pip-build-env-3b0fsnjc\\overlay\\Lib\\site-packages\\setuptools\\command\\egg_info.py\", line 544, in run\n",
      "      self.add_defaults()\n",
      "    File \"C:\\Users\\conca\\AppData\\Local\\Temp\\pip-build-env-3b0fsnjc\\overlay\\Lib\\site-packages\\setuptools\\command\\egg_info.py\", line 582, in add_defaults\n",
      "      sdist.add_defaults(self)\n",
      "    File \"C:\\Users\\conca\\AppData\\Local\\Temp\\pip-build-env-3b0fsnjc\\overlay\\Lib\\site-packages\\setuptools\\command\\sdist.py\", line 109, in add_defaults\n",
      "      super().add_defaults()\n",
      "    File \"C:\\Users\\conca\\AppData\\Local\\Temp\\pip-build-env-3b0fsnjc\\overlay\\Lib\\site-packages\\setuptools\\_distutils\\command\\sdist.py\", line 238, in add_defaults\n",
      "      self._add_defaults_ext()\n",
      "    File \"C:\\Users\\conca\\AppData\\Local\\Temp\\pip-build-env-3b0fsnjc\\overlay\\Lib\\site-packages\\setuptools\\_distutils\\command\\sdist.py\", line 323, in _add_defaults_ext\n",
      "      self.filelist.extend(build_ext.get_source_files())\n",
      "                           ^^^^^^^^^^^^^^^^^^^^^^^^^^^^\n",
      "    File \"<string>\", line 201, in get_source_files\n",
      "    File \"C:\\Users\\conca\\AppData\\Local\\Temp\\pip-build-env-3b0fsnjc\\overlay\\Lib\\site-packages\\setuptools\\_distutils\\cmd.py\", line 107, in __getattr__\n",
      "      raise AttributeError(attr)\n",
      "  AttributeError: cython_sources\n",
      "  [end of output]\n",
      "  \n",
      "  note: This error originates from a subprocess, and is likely not a problem with pip.\n",
      "error: subprocess-exited-with-error\n",
      "\n",
      "Getting requirements to build wheel did not run successfully.\n",
      "exit code: 1\n",
      "\n",
      "See above for output.\n",
      "\n",
      "note: This error originates from a subprocess, and is likely not a problem with pip.\n",
      "\n",
      "[notice] A new release of pip is available: 23.2.1 -> 24.3.1\n",
      "[notice] To update, run: python.exe -m pip install --upgrade pip\n"
     ]
    },
    {
     "name": "stdout",
     "output_type": "stream",
     "text": [
      "Collecting tensorflow\n",
      "  Obtaining dependency information for tensorflow from https://files.pythonhosted.org/packages/cf/24/271e77c22724f370c24c705f394b8035b4d27e4c2c6339f3f45ab9b8258e/tensorflow-2.18.0-cp311-cp311-win_amd64.whl.metadata\n",
      "  Using cached tensorflow-2.18.0-cp311-cp311-win_amd64.whl.metadata (3.3 kB)\n",
      "Requirement already satisfied: matplotlib in c:\\users\\conca\\documents\\progetti\\progettouit\\ispirazione8_pyglet\\uitproject\\venv\\lib\\site-packages (3.9.2)\n",
      "Collecting tensorflow-intel==2.18.0 (from tensorflow)\n",
      "  Obtaining dependency information for tensorflow-intel==2.18.0 from https://files.pythonhosted.org/packages/76/ad/fa6c508a15ff79cb5409294c293388e0999b7d480f84b65e4287277434fe/tensorflow_intel-2.18.0-cp311-cp311-win_amd64.whl.metadata\n",
      "  Using cached tensorflow_intel-2.18.0-cp311-cp311-win_amd64.whl.metadata (4.9 kB)\n",
      "Requirement already satisfied: absl-py>=1.0.0 in c:\\users\\conca\\documents\\progetti\\progettouit\\ispirazione8_pyglet\\uitproject\\venv\\lib\\site-packages (from tensorflow-intel==2.18.0->tensorflow) (2.1.0)\n",
      "Requirement already satisfied: astunparse>=1.6.0 in c:\\users\\conca\\documents\\progetti\\progettouit\\ispirazione8_pyglet\\uitproject\\venv\\lib\\site-packages (from tensorflow-intel==2.18.0->tensorflow) (1.6.3)\n",
      "Requirement already satisfied: flatbuffers>=24.3.25 in c:\\users\\conca\\documents\\progetti\\progettouit\\ispirazione8_pyglet\\uitproject\\venv\\lib\\site-packages (from tensorflow-intel==2.18.0->tensorflow) (24.3.25)\n",
      "Requirement already satisfied: gast!=0.5.0,!=0.5.1,!=0.5.2,>=0.2.1 in c:\\users\\conca\\documents\\progetti\\progettouit\\ispirazione8_pyglet\\uitproject\\venv\\lib\\site-packages (from tensorflow-intel==2.18.0->tensorflow) (0.4.0)\n",
      "Requirement already satisfied: google-pasta>=0.1.1 in c:\\users\\conca\\documents\\progetti\\progettouit\\ispirazione8_pyglet\\uitproject\\venv\\lib\\site-packages (from tensorflow-intel==2.18.0->tensorflow) (0.2.0)\n",
      "Requirement already satisfied: libclang>=13.0.0 in c:\\users\\conca\\documents\\progetti\\progettouit\\ispirazione8_pyglet\\uitproject\\venv\\lib\\site-packages (from tensorflow-intel==2.18.0->tensorflow) (18.1.1)\n",
      "Requirement already satisfied: opt-einsum>=2.3.2 in c:\\users\\conca\\documents\\progetti\\progettouit\\ispirazione8_pyglet\\uitproject\\venv\\lib\\site-packages (from tensorflow-intel==2.18.0->tensorflow) (3.4.0)\n",
      "Requirement already satisfied: packaging in c:\\users\\conca\\documents\\progetti\\progettouit\\ispirazione8_pyglet\\uitproject\\venv\\lib\\site-packages (from tensorflow-intel==2.18.0->tensorflow) (24.1)\n",
      "Requirement already satisfied: protobuf!=4.21.0,!=4.21.1,!=4.21.2,!=4.21.3,!=4.21.4,!=4.21.5,<6.0.0dev,>=3.20.3 in c:\\users\\conca\\documents\\progetti\\progettouit\\ispirazione8_pyglet\\uitproject\\venv\\lib\\site-packages (from tensorflow-intel==2.18.0->tensorflow) (4.25.5)\n",
      "Requirement already satisfied: requests<3,>=2.21.0 in c:\\users\\conca\\documents\\progetti\\progettouit\\ispirazione8_pyglet\\uitproject\\venv\\lib\\site-packages (from tensorflow-intel==2.18.0->tensorflow) (2.32.3)\n",
      "Requirement already satisfied: setuptools in c:\\users\\conca\\documents\\progetti\\progettouit\\ispirazione8_pyglet\\uitproject\\venv\\lib\\site-packages (from tensorflow-intel==2.18.0->tensorflow) (68.2.0)\n",
      "Requirement already satisfied: six>=1.12.0 in c:\\users\\conca\\documents\\progetti\\progettouit\\ispirazione8_pyglet\\uitproject\\venv\\lib\\site-packages (from tensorflow-intel==2.18.0->tensorflow) (1.16.0)\n",
      "Requirement already satisfied: termcolor>=1.1.0 in c:\\users\\conca\\documents\\progetti\\progettouit\\ispirazione8_pyglet\\uitproject\\venv\\lib\\site-packages (from tensorflow-intel==2.18.0->tensorflow) (2.5.0)\n",
      "Requirement already satisfied: typing-extensions>=3.6.6 in c:\\users\\conca\\documents\\progetti\\progettouit\\ispirazione8_pyglet\\uitproject\\venv\\lib\\site-packages (from tensorflow-intel==2.18.0->tensorflow) (4.12.2)\n",
      "Requirement already satisfied: wrapt>=1.11.0 in c:\\users\\conca\\documents\\progetti\\progettouit\\ispirazione8_pyglet\\uitproject\\venv\\lib\\site-packages (from tensorflow-intel==2.18.0->tensorflow) (1.16.0)\n",
      "Requirement already satisfied: grpcio<2.0,>=1.24.3 in c:\\users\\conca\\documents\\progetti\\progettouit\\ispirazione8_pyglet\\uitproject\\venv\\lib\\site-packages (from tensorflow-intel==2.18.0->tensorflow) (1.67.0)\n",
      "Collecting tensorboard<2.19,>=2.18 (from tensorflow-intel==2.18.0->tensorflow)\n",
      "  Obtaining dependency information for tensorboard<2.19,>=2.18 from https://files.pythonhosted.org/packages/b1/de/021c1d407befb505791764ad2cbd56ceaaa53a746baed01d2e2143f05f18/tensorboard-2.18.0-py3-none-any.whl.metadata\n",
      "  Using cached tensorboard-2.18.0-py3-none-any.whl.metadata (1.6 kB)\n",
      "Collecting keras>=3.5.0 (from tensorflow-intel==2.18.0->tensorflow)\n",
      "  Obtaining dependency information for keras>=3.5.0 from https://files.pythonhosted.org/packages/c2/88/eef50051a772dcb4433d1f3e4c1d6576ba450fe83e89d028d7e8b85a2122/keras-3.6.0-py3-none-any.whl.metadata\n",
      "  Using cached keras-3.6.0-py3-none-any.whl.metadata (5.8 kB)\n",
      "Collecting numpy<2.1.0,>=1.26.0 (from tensorflow-intel==2.18.0->tensorflow)\n",
      "  Obtaining dependency information for numpy<2.1.0,>=1.26.0 from https://files.pythonhosted.org/packages/eb/57/3a3f14d3a759dcf9bf6e9eda905794726b758819df4663f217d658a58695/numpy-2.0.2-cp311-cp311-win_amd64.whl.metadata\n",
      "  Using cached numpy-2.0.2-cp311-cp311-win_amd64.whl.metadata (59 kB)\n",
      "Requirement already satisfied: h5py>=3.11.0 in c:\\users\\conca\\documents\\progetti\\progettouit\\ispirazione8_pyglet\\uitproject\\venv\\lib\\site-packages (from tensorflow-intel==2.18.0->tensorflow) (3.12.1)\n",
      "Requirement already satisfied: ml-dtypes<0.5.0,>=0.4.0 in c:\\users\\conca\\documents\\progetti\\progettouit\\ispirazione8_pyglet\\uitproject\\venv\\lib\\site-packages (from tensorflow-intel==2.18.0->tensorflow) (0.4.1)\n",
      "Requirement already satisfied: tensorflow-io-gcs-filesystem>=0.23.1 in c:\\users\\conca\\documents\\progetti\\progettouit\\ispirazione8_pyglet\\uitproject\\venv\\lib\\site-packages (from tensorflow-intel==2.18.0->tensorflow) (0.31.0)\n",
      "Requirement already satisfied: contourpy>=1.0.1 in c:\\users\\conca\\documents\\progetti\\progettouit\\ispirazione8_pyglet\\uitproject\\venv\\lib\\site-packages (from matplotlib) (1.3.0)\n",
      "Requirement already satisfied: cycler>=0.10 in c:\\users\\conca\\documents\\progetti\\progettouit\\ispirazione8_pyglet\\uitproject\\venv\\lib\\site-packages (from matplotlib) (0.12.1)\n",
      "Requirement already satisfied: fonttools>=4.22.0 in c:\\users\\conca\\documents\\progetti\\progettouit\\ispirazione8_pyglet\\uitproject\\venv\\lib\\site-packages (from matplotlib) (4.54.1)\n",
      "Requirement already satisfied: kiwisolver>=1.3.1 in c:\\users\\conca\\documents\\progetti\\progettouit\\ispirazione8_pyglet\\uitproject\\venv\\lib\\site-packages (from matplotlib) (1.4.7)\n",
      "Requirement already satisfied: pillow>=8 in c:\\users\\conca\\documents\\progetti\\progettouit\\ispirazione8_pyglet\\uitproject\\venv\\lib\\site-packages (from matplotlib) (11.0.0)\n",
      "Requirement already satisfied: pyparsing>=2.3.1 in c:\\users\\conca\\documents\\progetti\\progettouit\\ispirazione8_pyglet\\uitproject\\venv\\lib\\site-packages (from matplotlib) (3.2.0)\n",
      "Requirement already satisfied: python-dateutil>=2.7 in c:\\users\\conca\\documents\\progetti\\progettouit\\ispirazione8_pyglet\\uitproject\\venv\\lib\\site-packages (from matplotlib) (2.9.0.post0)\n",
      "Requirement already satisfied: wheel<1.0,>=0.23.0 in c:\\users\\conca\\documents\\progetti\\progettouit\\ispirazione8_pyglet\\uitproject\\venv\\lib\\site-packages (from astunparse>=1.6.0->tensorflow-intel==2.18.0->tensorflow) (0.41.2)\n",
      "Requirement already satisfied: rich in c:\\users\\conca\\documents\\progetti\\progettouit\\ispirazione8_pyglet\\uitproject\\venv\\lib\\site-packages (from keras>=3.5.0->tensorflow-intel==2.18.0->tensorflow) (13.9.3)\n",
      "Requirement already satisfied: namex in c:\\users\\conca\\documents\\progetti\\progettouit\\ispirazione8_pyglet\\uitproject\\venv\\lib\\site-packages (from keras>=3.5.0->tensorflow-intel==2.18.0->tensorflow) (0.0.8)\n",
      "Requirement already satisfied: optree in c:\\users\\conca\\documents\\progetti\\progettouit\\ispirazione8_pyglet\\uitproject\\venv\\lib\\site-packages (from keras>=3.5.0->tensorflow-intel==2.18.0->tensorflow) (0.13.0)\n",
      "Requirement already satisfied: charset-normalizer<4,>=2 in c:\\users\\conca\\documents\\progetti\\progettouit\\ispirazione8_pyglet\\uitproject\\venv\\lib\\site-packages (from requests<3,>=2.21.0->tensorflow-intel==2.18.0->tensorflow) (3.4.0)\n",
      "Requirement already satisfied: idna<4,>=2.5 in c:\\users\\conca\\documents\\progetti\\progettouit\\ispirazione8_pyglet\\uitproject\\venv\\lib\\site-packages (from requests<3,>=2.21.0->tensorflow-intel==2.18.0->tensorflow) (3.10)\n",
      "Requirement already satisfied: urllib3<3,>=1.21.1 in c:\\users\\conca\\documents\\progetti\\progettouit\\ispirazione8_pyglet\\uitproject\\venv\\lib\\site-packages (from requests<3,>=2.21.0->tensorflow-intel==2.18.0->tensorflow) (2.2.3)\n",
      "Requirement already satisfied: certifi>=2017.4.17 in c:\\users\\conca\\documents\\progetti\\progettouit\\ispirazione8_pyglet\\uitproject\\venv\\lib\\site-packages (from requests<3,>=2.21.0->tensorflow-intel==2.18.0->tensorflow) (2024.8.30)\n",
      "Requirement already satisfied: markdown>=2.6.8 in c:\\users\\conca\\documents\\progetti\\progettouit\\ispirazione8_pyglet\\uitproject\\venv\\lib\\site-packages (from tensorboard<2.19,>=2.18->tensorflow-intel==2.18.0->tensorflow) (3.7)\n",
      "Requirement already satisfied: tensorboard-data-server<0.8.0,>=0.7.0 in c:\\users\\conca\\documents\\progetti\\progettouit\\ispirazione8_pyglet\\uitproject\\venv\\lib\\site-packages (from tensorboard<2.19,>=2.18->tensorflow-intel==2.18.0->tensorflow) (0.7.2)\n",
      "Requirement already satisfied: werkzeug>=1.0.1 in c:\\users\\conca\\documents\\progetti\\progettouit\\ispirazione8_pyglet\\uitproject\\venv\\lib\\site-packages (from tensorboard<2.19,>=2.18->tensorflow-intel==2.18.0->tensorflow) (3.0.6)\n",
      "Requirement already satisfied: MarkupSafe>=2.1.1 in c:\\users\\conca\\documents\\progetti\\progettouit\\ispirazione8_pyglet\\uitproject\\venv\\lib\\site-packages (from werkzeug>=1.0.1->tensorboard<2.19,>=2.18->tensorflow-intel==2.18.0->tensorflow) (3.0.2)\n",
      "Requirement already satisfied: markdown-it-py>=2.2.0 in c:\\users\\conca\\documents\\progetti\\progettouit\\ispirazione8_pyglet\\uitproject\\venv\\lib\\site-packages (from rich->keras>=3.5.0->tensorflow-intel==2.18.0->tensorflow) (3.0.0)\n",
      "Requirement already satisfied: pygments<3.0.0,>=2.13.0 in c:\\users\\conca\\documents\\progetti\\progettouit\\ispirazione8_pyglet\\uitproject\\venv\\lib\\site-packages (from rich->keras>=3.5.0->tensorflow-intel==2.18.0->tensorflow) (2.18.0)\n",
      "Requirement already satisfied: mdurl~=0.1 in c:\\users\\conca\\documents\\progetti\\progettouit\\ispirazione8_pyglet\\uitproject\\venv\\lib\\site-packages (from markdown-it-py>=2.2.0->rich->keras>=3.5.0->tensorflow-intel==2.18.0->tensorflow) (0.1.2)\n",
      "Using cached tensorflow-2.18.0-cp311-cp311-win_amd64.whl (7.5 kB)\n",
      "Using cached tensorflow_intel-2.18.0-cp311-cp311-win_amd64.whl (390.2 MB)\n",
      "Using cached numpy-2.0.2-cp311-cp311-win_amd64.whl (15.9 MB)\n",
      "Using cached keras-3.6.0-py3-none-any.whl (1.2 MB)\n",
      "Using cached tensorboard-2.18.0-py3-none-any.whl (5.5 MB)\n",
      "Installing collected packages: numpy, tensorboard, keras, tensorflow-intel, tensorflow\n",
      "  Attempting uninstall: numpy\n",
      "    Found existing installation: numpy 1.24.3\n",
      "    Uninstalling numpy-1.24.3:\n",
      "      Successfully uninstalled numpy-1.24.3\n"
     ]
    },
    {
     "name": "stderr",
     "output_type": "stream",
     "text": [
      "ERROR: Could not install packages due to an OSError: [WinError 5] Accesso negato: 'C:\\\\Users\\\\conca\\\\Documents\\\\progetti\\\\progettoUIT\\\\ispirazione8_pyglet\\\\UITProject\\\\venv\\\\Lib\\\\site-packages\\\\~umpy\\\\.libs\\\\libopenblas64__v0.3.21-gcc_10_3_0.dll'\n",
      "Check the permissions.\n",
      "\n",
      "\n",
      "[notice] A new release of pip is available: 23.2.1 -> 24.3.1\n",
      "[notice] To update, run: python.exe -m pip install --upgrade pip\n"
     ]
    }
   ],
   "execution_count": 2
  },
  {
   "cell_type": "markdown",
   "metadata": {
    "id": "v3CvTNmB1WiY"
   },
   "source": [
    "Import the required libraries."
   ]
  },
  {
   "metadata": {
    "ExecuteTime": {
     "end_time": "2024-11-26T10:24:49.901733Z",
     "start_time": "2024-11-26T10:24:49.898850Z"
    }
   },
   "cell_type": "code",
   "source": "",
   "outputs": [],
   "execution_count": 2
  },
  {
   "cell_type": "code",
   "metadata": {
    "id": "c74UL9oI0VKU",
    "ExecuteTime": {
     "end_time": "2024-11-26T10:24:51.855303Z",
     "start_time": "2024-11-26T10:24:49.901733Z"
    }
   },
   "source": [
    "#from google.colab import files\n",
    "import os\n",
    "import tensorflow as tf\n",
    "assert tf.__version__.startswith('2')\n",
    "\n",
    "from mediapipe_model_maker import gesture_recognizer\n",
    "\n",
    "import matplotlib.pyplot as plt"
   ],
   "outputs": [
    {
     "name": "stderr",
     "output_type": "stream",
     "text": [
      "\n",
      "A module that was compiled using NumPy 1.x cannot be run in\n",
      "NumPy 2.0.2 as it may crash. To support both 1.x and 2.x\n",
      "versions of NumPy, modules must be compiled with NumPy 2.0.\n",
      "Some module may need to rebuild instead e.g. with 'pybind11>=2.12'.\n",
      "\n",
      "If you are a user of the module, the easiest solution will be to\n",
      "downgrade to 'numpy<2' or try to upgrade the affected module.\n",
      "We expect that some modules will need time to support NumPy 2.\n",
      "\n",
      "Traceback (most recent call last):  File \"<frozen runpy>\", line 198, in _run_module_as_main\n",
      "  File \"<frozen runpy>\", line 88, in _run_code\n",
      "  File \"C:\\Users\\conca\\Documents\\progetti\\progettoUIT\\ispirazione8_pyglet\\UITProject\\venv\\Lib\\site-packages\\ipykernel_launcher.py\", line 18, in <module>\n",
      "    app.launch_new_instance()\n",
      "  File \"C:\\Users\\conca\\Documents\\progetti\\progettoUIT\\ispirazione8_pyglet\\UITProject\\venv\\Lib\\site-packages\\traitlets\\config\\application.py\", line 1075, in launch_instance\n",
      "    app.start()\n",
      "  File \"C:\\Users\\conca\\Documents\\progetti\\progettoUIT\\ispirazione8_pyglet\\UITProject\\venv\\Lib\\site-packages\\ipykernel\\kernelapp.py\", line 739, in start\n",
      "    self.io_loop.start()\n",
      "  File \"C:\\Users\\conca\\Documents\\progetti\\progettoUIT\\ispirazione8_pyglet\\UITProject\\venv\\Lib\\site-packages\\tornado\\platform\\asyncio.py\", line 205, in start\n",
      "    self.asyncio_loop.run_forever()\n",
      "  File \"C:\\Program Files\\WindowsApps\\PythonSoftwareFoundation.Python.3.11_3.11.2544.0_x64__qbz5n2kfra8p0\\Lib\\asyncio\\base_events.py\", line 608, in run_forever\n",
      "    self._run_once()\n",
      "  File \"C:\\Program Files\\WindowsApps\\PythonSoftwareFoundation.Python.3.11_3.11.2544.0_x64__qbz5n2kfra8p0\\Lib\\asyncio\\base_events.py\", line 1936, in _run_once\n",
      "    handle._run()\n",
      "  File \"C:\\Program Files\\WindowsApps\\PythonSoftwareFoundation.Python.3.11_3.11.2544.0_x64__qbz5n2kfra8p0\\Lib\\asyncio\\events.py\", line 84, in _run\n",
      "    self._context.run(self._callback, *self._args)\n",
      "  File \"C:\\Users\\conca\\Documents\\progetti\\progettoUIT\\ispirazione8_pyglet\\UITProject\\venv\\Lib\\site-packages\\ipykernel\\kernelbase.py\", line 545, in dispatch_queue\n",
      "    await self.process_one()\n",
      "  File \"C:\\Users\\conca\\Documents\\progetti\\progettoUIT\\ispirazione8_pyglet\\UITProject\\venv\\Lib\\site-packages\\ipykernel\\kernelbase.py\", line 534, in process_one\n",
      "    await dispatch(*args)\n",
      "  File \"C:\\Users\\conca\\Documents\\progetti\\progettoUIT\\ispirazione8_pyglet\\UITProject\\venv\\Lib\\site-packages\\ipykernel\\kernelbase.py\", line 437, in dispatch_shell\n",
      "    await result\n",
      "  File \"C:\\Users\\conca\\Documents\\progetti\\progettoUIT\\ispirazione8_pyglet\\UITProject\\venv\\Lib\\site-packages\\ipykernel\\ipkernel.py\", line 362, in execute_request\n",
      "    await super().execute_request(stream, ident, parent)\n",
      "  File \"C:\\Users\\conca\\Documents\\progetti\\progettoUIT\\ispirazione8_pyglet\\UITProject\\venv\\Lib\\site-packages\\ipykernel\\kernelbase.py\", line 778, in execute_request\n",
      "    reply_content = await reply_content\n",
      "  File \"C:\\Users\\conca\\Documents\\progetti\\progettoUIT\\ispirazione8_pyglet\\UITProject\\venv\\Lib\\site-packages\\ipykernel\\ipkernel.py\", line 449, in do_execute\n",
      "    res = shell.run_cell(\n",
      "  File \"C:\\Users\\conca\\Documents\\progetti\\progettoUIT\\ispirazione8_pyglet\\UITProject\\venv\\Lib\\site-packages\\ipykernel\\zmqshell.py\", line 549, in run_cell\n",
      "    return super().run_cell(*args, **kwargs)\n",
      "  File \"C:\\Users\\conca\\Documents\\progetti\\progettoUIT\\ispirazione8_pyglet\\UITProject\\venv\\Lib\\site-packages\\IPython\\core\\interactiveshell.py\", line 3075, in run_cell\n",
      "    result = self._run_cell(\n",
      "  File \"C:\\Users\\conca\\Documents\\progetti\\progettoUIT\\ispirazione8_pyglet\\UITProject\\venv\\Lib\\site-packages\\IPython\\core\\interactiveshell.py\", line 3130, in _run_cell\n",
      "    result = runner(coro)\n",
      "  File \"C:\\Users\\conca\\Documents\\progetti\\progettoUIT\\ispirazione8_pyglet\\UITProject\\venv\\Lib\\site-packages\\IPython\\core\\async_helpers.py\", line 128, in _pseudo_sync_runner\n",
      "    coro.send(None)\n",
      "  File \"C:\\Users\\conca\\Documents\\progetti\\progettoUIT\\ispirazione8_pyglet\\UITProject\\venv\\Lib\\site-packages\\IPython\\core\\interactiveshell.py\", line 3334, in run_cell_async\n",
      "    has_raised = await self.run_ast_nodes(code_ast.body, cell_name,\n",
      "  File \"C:\\Users\\conca\\Documents\\progetti\\progettoUIT\\ispirazione8_pyglet\\UITProject\\venv\\Lib\\site-packages\\IPython\\core\\interactiveshell.py\", line 3517, in run_ast_nodes\n",
      "    if await self.run_code(code, result, async_=asy):\n",
      "  File \"C:\\Users\\conca\\Documents\\progetti\\progettoUIT\\ispirazione8_pyglet\\UITProject\\venv\\Lib\\site-packages\\IPython\\core\\interactiveshell.py\", line 3577, in run_code\n",
      "    exec(code_obj, self.user_global_ns, self.user_ns)\n",
      "  File \"C:\\Users\\conca\\AppData\\Local\\Temp\\ipykernel_22076\\1566639998.py\", line 3, in <module>\n",
      "    import tensorflow as tf\n",
      "  File \"C:\\Users\\conca\\Documents\\progetti\\progettoUIT\\ispirazione8_pyglet\\UITProject\\venv\\Lib\\site-packages\\tensorflow\\__init__.py\", line 38, in <module>\n",
      "    from tensorflow.python.tools import module_util as _module_util\n",
      "  File \"C:\\Users\\conca\\Documents\\progetti\\progettoUIT\\ispirazione8_pyglet\\UITProject\\venv\\Lib\\site-packages\\tensorflow\\python\\__init__.py\", line 37, in <module>\n",
      "    from tensorflow.python.eager import context\n",
      "  File \"C:\\Users\\conca\\Documents\\progetti\\progettoUIT\\ispirazione8_pyglet\\UITProject\\venv\\Lib\\site-packages\\tensorflow\\python\\eager\\context.py\", line 34, in <module>\n",
      "    from tensorflow.python.client import pywrap_tf_session\n",
      "  File \"C:\\Users\\conca\\Documents\\progetti\\progettoUIT\\ispirazione8_pyglet\\UITProject\\venv\\Lib\\site-packages\\tensorflow\\python\\client\\pywrap_tf_session.py\", line 19, in <module>\n",
      "    from tensorflow.python.client._pywrap_tf_session import *\n"
     ]
    },
    {
     "ename": "AttributeError",
     "evalue": "_ARRAY_API not found",
     "output_type": "error",
     "traceback": [
      "\u001B[1;31m---------------------------------------------------------------------------\u001B[0m",
      "\u001B[1;31mAttributeError\u001B[0m                            Traceback (most recent call last)",
      "\u001B[1;31mAttributeError\u001B[0m: _ARRAY_API not found"
     ]
    },
    {
     "name": "stderr",
     "output_type": "stream",
     "text": [
      "\n",
      "A module that was compiled using NumPy 1.x cannot be run in\n",
      "NumPy 2.0.2 as it may crash. To support both 1.x and 2.x\n",
      "versions of NumPy, modules must be compiled with NumPy 2.0.\n",
      "Some module may need to rebuild instead e.g. with 'pybind11>=2.12'.\n",
      "\n",
      "If you are a user of the module, the easiest solution will be to\n",
      "downgrade to 'numpy<2' or try to upgrade the affected module.\n",
      "We expect that some modules will need time to support NumPy 2.\n",
      "\n",
      "Traceback (most recent call last):  File \"<frozen runpy>\", line 198, in _run_module_as_main\n",
      "  File \"<frozen runpy>\", line 88, in _run_code\n",
      "  File \"C:\\Users\\conca\\Documents\\progetti\\progettoUIT\\ispirazione8_pyglet\\UITProject\\venv\\Lib\\site-packages\\ipykernel_launcher.py\", line 18, in <module>\n",
      "    app.launch_new_instance()\n",
      "  File \"C:\\Users\\conca\\Documents\\progetti\\progettoUIT\\ispirazione8_pyglet\\UITProject\\venv\\Lib\\site-packages\\traitlets\\config\\application.py\", line 1075, in launch_instance\n",
      "    app.start()\n",
      "  File \"C:\\Users\\conca\\Documents\\progetti\\progettoUIT\\ispirazione8_pyglet\\UITProject\\venv\\Lib\\site-packages\\ipykernel\\kernelapp.py\", line 739, in start\n",
      "    self.io_loop.start()\n",
      "  File \"C:\\Users\\conca\\Documents\\progetti\\progettoUIT\\ispirazione8_pyglet\\UITProject\\venv\\Lib\\site-packages\\tornado\\platform\\asyncio.py\", line 205, in start\n",
      "    self.asyncio_loop.run_forever()\n",
      "  File \"C:\\Program Files\\WindowsApps\\PythonSoftwareFoundation.Python.3.11_3.11.2544.0_x64__qbz5n2kfra8p0\\Lib\\asyncio\\base_events.py\", line 608, in run_forever\n",
      "    self._run_once()\n",
      "  File \"C:\\Program Files\\WindowsApps\\PythonSoftwareFoundation.Python.3.11_3.11.2544.0_x64__qbz5n2kfra8p0\\Lib\\asyncio\\base_events.py\", line 1936, in _run_once\n",
      "    handle._run()\n",
      "  File \"C:\\Program Files\\WindowsApps\\PythonSoftwareFoundation.Python.3.11_3.11.2544.0_x64__qbz5n2kfra8p0\\Lib\\asyncio\\events.py\", line 84, in _run\n",
      "    self._context.run(self._callback, *self._args)\n",
      "  File \"C:\\Users\\conca\\Documents\\progetti\\progettoUIT\\ispirazione8_pyglet\\UITProject\\venv\\Lib\\site-packages\\ipykernel\\kernelbase.py\", line 545, in dispatch_queue\n",
      "    await self.process_one()\n",
      "  File \"C:\\Users\\conca\\Documents\\progetti\\progettoUIT\\ispirazione8_pyglet\\UITProject\\venv\\Lib\\site-packages\\ipykernel\\kernelbase.py\", line 534, in process_one\n",
      "    await dispatch(*args)\n",
      "  File \"C:\\Users\\conca\\Documents\\progetti\\progettoUIT\\ispirazione8_pyglet\\UITProject\\venv\\Lib\\site-packages\\ipykernel\\kernelbase.py\", line 437, in dispatch_shell\n",
      "    await result\n",
      "  File \"C:\\Users\\conca\\Documents\\progetti\\progettoUIT\\ispirazione8_pyglet\\UITProject\\venv\\Lib\\site-packages\\ipykernel\\ipkernel.py\", line 362, in execute_request\n",
      "    await super().execute_request(stream, ident, parent)\n",
      "  File \"C:\\Users\\conca\\Documents\\progetti\\progettoUIT\\ispirazione8_pyglet\\UITProject\\venv\\Lib\\site-packages\\ipykernel\\kernelbase.py\", line 778, in execute_request\n",
      "    reply_content = await reply_content\n",
      "  File \"C:\\Users\\conca\\Documents\\progetti\\progettoUIT\\ispirazione8_pyglet\\UITProject\\venv\\Lib\\site-packages\\ipykernel\\ipkernel.py\", line 449, in do_execute\n",
      "    res = shell.run_cell(\n",
      "  File \"C:\\Users\\conca\\Documents\\progetti\\progettoUIT\\ispirazione8_pyglet\\UITProject\\venv\\Lib\\site-packages\\ipykernel\\zmqshell.py\", line 549, in run_cell\n",
      "    return super().run_cell(*args, **kwargs)\n",
      "  File \"C:\\Users\\conca\\Documents\\progetti\\progettoUIT\\ispirazione8_pyglet\\UITProject\\venv\\Lib\\site-packages\\IPython\\core\\interactiveshell.py\", line 3075, in run_cell\n",
      "    result = self._run_cell(\n",
      "  File \"C:\\Users\\conca\\Documents\\progetti\\progettoUIT\\ispirazione8_pyglet\\UITProject\\venv\\Lib\\site-packages\\IPython\\core\\interactiveshell.py\", line 3130, in _run_cell\n",
      "    result = runner(coro)\n",
      "  File \"C:\\Users\\conca\\Documents\\progetti\\progettoUIT\\ispirazione8_pyglet\\UITProject\\venv\\Lib\\site-packages\\IPython\\core\\async_helpers.py\", line 128, in _pseudo_sync_runner\n",
      "    coro.send(None)\n",
      "  File \"C:\\Users\\conca\\Documents\\progetti\\progettoUIT\\ispirazione8_pyglet\\UITProject\\venv\\Lib\\site-packages\\IPython\\core\\interactiveshell.py\", line 3334, in run_cell_async\n",
      "    has_raised = await self.run_ast_nodes(code_ast.body, cell_name,\n",
      "  File \"C:\\Users\\conca\\Documents\\progetti\\progettoUIT\\ispirazione8_pyglet\\UITProject\\venv\\Lib\\site-packages\\IPython\\core\\interactiveshell.py\", line 3517, in run_ast_nodes\n",
      "    if await self.run_code(code, result, async_=asy):\n",
      "  File \"C:\\Users\\conca\\Documents\\progetti\\progettoUIT\\ispirazione8_pyglet\\UITProject\\venv\\Lib\\site-packages\\IPython\\core\\interactiveshell.py\", line 3577, in run_code\n",
      "    exec(code_obj, self.user_global_ns, self.user_ns)\n",
      "  File \"C:\\Users\\conca\\AppData\\Local\\Temp\\ipykernel_22076\\1566639998.py\", line 3, in <module>\n",
      "    import tensorflow as tf\n",
      "  File \"C:\\Users\\conca\\Documents\\progetti\\progettoUIT\\ispirazione8_pyglet\\UITProject\\venv\\Lib\\site-packages\\tensorflow\\__init__.py\", line 38, in <module>\n",
      "    from tensorflow.python.tools import module_util as _module_util\n",
      "  File \"C:\\Users\\conca\\Documents\\progetti\\progettoUIT\\ispirazione8_pyglet\\UITProject\\venv\\Lib\\site-packages\\tensorflow\\python\\__init__.py\", line 37, in <module>\n",
      "    from tensorflow.python.eager import context\n",
      "  File \"C:\\Users\\conca\\Documents\\progetti\\progettoUIT\\ispirazione8_pyglet\\UITProject\\venv\\Lib\\site-packages\\tensorflow\\python\\eager\\context.py\", line 36, in <module>\n",
      "    from tensorflow.python.eager import execute\n",
      "  File \"C:\\Users\\conca\\Documents\\progetti\\progettoUIT\\ispirazione8_pyglet\\UITProject\\venv\\Lib\\site-packages\\tensorflow\\python\\eager\\execute.py\", line 21, in <module>\n",
      "    from tensorflow.python.framework import dtypes\n",
      "  File \"C:\\Users\\conca\\Documents\\progetti\\progettoUIT\\ispirazione8_pyglet\\UITProject\\venv\\Lib\\site-packages\\tensorflow\\python\\framework\\dtypes.py\", line 30, in <module>\n",
      "    from tensorflow.python.lib.core import _pywrap_float8\n"
     ]
    },
    {
     "ename": "AttributeError",
     "evalue": "_ARRAY_API not found",
     "output_type": "error",
     "traceback": [
      "\u001B[1;31m---------------------------------------------------------------------------\u001B[0m",
      "\u001B[1;31mAttributeError\u001B[0m                            Traceback (most recent call last)",
      "\u001B[1;31mAttributeError\u001B[0m: _ARRAY_API not found"
     ]
    },
    {
     "ename": "ImportError",
     "evalue": "numpy.core._multiarray_umath failed to import",
     "output_type": "error",
     "traceback": [
      "\u001B[1;31m---------------------------------------------------------------------------\u001B[0m",
      "\u001B[1;31mImportError\u001B[0m                               Traceback (most recent call last)",
      "\u001B[1;31mImportError\u001B[0m: numpy.core._multiarray_umath failed to import"
     ]
    },
    {
     "ename": "ImportError",
     "evalue": "numpy.core.umath failed to import",
     "output_type": "error",
     "traceback": [
      "\u001B[1;31m---------------------------------------------------------------------------\u001B[0m",
      "\u001B[1;31mImportError\u001B[0m                               Traceback (most recent call last)",
      "\u001B[1;31mImportError\u001B[0m: numpy.core.umath failed to import"
     ]
    },
    {
     "name": "stderr",
     "output_type": "stream",
     "text": [
      "\n",
      "A module that was compiled using NumPy 1.x cannot be run in\n",
      "NumPy 2.0.2 as it may crash. To support both 1.x and 2.x\n",
      "versions of NumPy, modules must be compiled with NumPy 2.0.\n",
      "Some module may need to rebuild instead e.g. with 'pybind11>=2.12'.\n",
      "\n",
      "If you are a user of the module, the easiest solution will be to\n",
      "downgrade to 'numpy<2' or try to upgrade the affected module.\n",
      "We expect that some modules will need time to support NumPy 2.\n",
      "\n",
      "Traceback (most recent call last):  File \"<frozen runpy>\", line 198, in _run_module_as_main\n",
      "  File \"<frozen runpy>\", line 88, in _run_code\n",
      "  File \"C:\\Users\\conca\\Documents\\progetti\\progettoUIT\\ispirazione8_pyglet\\UITProject\\venv\\Lib\\site-packages\\ipykernel_launcher.py\", line 18, in <module>\n",
      "    app.launch_new_instance()\n",
      "  File \"C:\\Users\\conca\\Documents\\progetti\\progettoUIT\\ispirazione8_pyglet\\UITProject\\venv\\Lib\\site-packages\\traitlets\\config\\application.py\", line 1075, in launch_instance\n",
      "    app.start()\n",
      "  File \"C:\\Users\\conca\\Documents\\progetti\\progettoUIT\\ispirazione8_pyglet\\UITProject\\venv\\Lib\\site-packages\\ipykernel\\kernelapp.py\", line 739, in start\n",
      "    self.io_loop.start()\n",
      "  File \"C:\\Users\\conca\\Documents\\progetti\\progettoUIT\\ispirazione8_pyglet\\UITProject\\venv\\Lib\\site-packages\\tornado\\platform\\asyncio.py\", line 205, in start\n",
      "    self.asyncio_loop.run_forever()\n",
      "  File \"C:\\Program Files\\WindowsApps\\PythonSoftwareFoundation.Python.3.11_3.11.2544.0_x64__qbz5n2kfra8p0\\Lib\\asyncio\\base_events.py\", line 608, in run_forever\n",
      "    self._run_once()\n",
      "  File \"C:\\Program Files\\WindowsApps\\PythonSoftwareFoundation.Python.3.11_3.11.2544.0_x64__qbz5n2kfra8p0\\Lib\\asyncio\\base_events.py\", line 1936, in _run_once\n",
      "    handle._run()\n",
      "  File \"C:\\Program Files\\WindowsApps\\PythonSoftwareFoundation.Python.3.11_3.11.2544.0_x64__qbz5n2kfra8p0\\Lib\\asyncio\\events.py\", line 84, in _run\n",
      "    self._context.run(self._callback, *self._args)\n",
      "  File \"C:\\Users\\conca\\Documents\\progetti\\progettoUIT\\ispirazione8_pyglet\\UITProject\\venv\\Lib\\site-packages\\ipykernel\\kernelbase.py\", line 545, in dispatch_queue\n",
      "    await self.process_one()\n",
      "  File \"C:\\Users\\conca\\Documents\\progetti\\progettoUIT\\ispirazione8_pyglet\\UITProject\\venv\\Lib\\site-packages\\ipykernel\\kernelbase.py\", line 534, in process_one\n",
      "    await dispatch(*args)\n",
      "  File \"C:\\Users\\conca\\Documents\\progetti\\progettoUIT\\ispirazione8_pyglet\\UITProject\\venv\\Lib\\site-packages\\ipykernel\\kernelbase.py\", line 437, in dispatch_shell\n",
      "    await result\n",
      "  File \"C:\\Users\\conca\\Documents\\progetti\\progettoUIT\\ispirazione8_pyglet\\UITProject\\venv\\Lib\\site-packages\\ipykernel\\ipkernel.py\", line 362, in execute_request\n",
      "    await super().execute_request(stream, ident, parent)\n",
      "  File \"C:\\Users\\conca\\Documents\\progetti\\progettoUIT\\ispirazione8_pyglet\\UITProject\\venv\\Lib\\site-packages\\ipykernel\\kernelbase.py\", line 778, in execute_request\n",
      "    reply_content = await reply_content\n",
      "  File \"C:\\Users\\conca\\Documents\\progetti\\progettoUIT\\ispirazione8_pyglet\\UITProject\\venv\\Lib\\site-packages\\ipykernel\\ipkernel.py\", line 449, in do_execute\n",
      "    res = shell.run_cell(\n",
      "  File \"C:\\Users\\conca\\Documents\\progetti\\progettoUIT\\ispirazione8_pyglet\\UITProject\\venv\\Lib\\site-packages\\ipykernel\\zmqshell.py\", line 549, in run_cell\n",
      "    return super().run_cell(*args, **kwargs)\n",
      "  File \"C:\\Users\\conca\\Documents\\progetti\\progettoUIT\\ispirazione8_pyglet\\UITProject\\venv\\Lib\\site-packages\\IPython\\core\\interactiveshell.py\", line 3075, in run_cell\n",
      "    result = self._run_cell(\n",
      "  File \"C:\\Users\\conca\\Documents\\progetti\\progettoUIT\\ispirazione8_pyglet\\UITProject\\venv\\Lib\\site-packages\\IPython\\core\\interactiveshell.py\", line 3130, in _run_cell\n",
      "    result = runner(coro)\n",
      "  File \"C:\\Users\\conca\\Documents\\progetti\\progettoUIT\\ispirazione8_pyglet\\UITProject\\venv\\Lib\\site-packages\\IPython\\core\\async_helpers.py\", line 128, in _pseudo_sync_runner\n",
      "    coro.send(None)\n",
      "  File \"C:\\Users\\conca\\Documents\\progetti\\progettoUIT\\ispirazione8_pyglet\\UITProject\\venv\\Lib\\site-packages\\IPython\\core\\interactiveshell.py\", line 3334, in run_cell_async\n",
      "    has_raised = await self.run_ast_nodes(code_ast.body, cell_name,\n",
      "  File \"C:\\Users\\conca\\Documents\\progetti\\progettoUIT\\ispirazione8_pyglet\\UITProject\\venv\\Lib\\site-packages\\IPython\\core\\interactiveshell.py\", line 3517, in run_ast_nodes\n",
      "    if await self.run_code(code, result, async_=asy):\n",
      "  File \"C:\\Users\\conca\\Documents\\progetti\\progettoUIT\\ispirazione8_pyglet\\UITProject\\venv\\Lib\\site-packages\\IPython\\core\\interactiveshell.py\", line 3577, in run_code\n",
      "    exec(code_obj, self.user_global_ns, self.user_ns)\n",
      "  File \"C:\\Users\\conca\\AppData\\Local\\Temp\\ipykernel_22076\\1566639998.py\", line 3, in <module>\n",
      "    import tensorflow as tf\n",
      "  File \"C:\\Users\\conca\\Documents\\progetti\\progettoUIT\\ispirazione8_pyglet\\UITProject\\venv\\Lib\\site-packages\\tensorflow\\__init__.py\", line 38, in <module>\n",
      "    from tensorflow.python.tools import module_util as _module_util\n",
      "  File \"C:\\Users\\conca\\Documents\\progetti\\progettoUIT\\ispirazione8_pyglet\\UITProject\\venv\\Lib\\site-packages\\tensorflow\\python\\__init__.py\", line 37, in <module>\n",
      "    from tensorflow.python.eager import context\n",
      "  File \"C:\\Users\\conca\\Documents\\progetti\\progettoUIT\\ispirazione8_pyglet\\UITProject\\venv\\Lib\\site-packages\\tensorflow\\python\\eager\\context.py\", line 36, in <module>\n",
      "    from tensorflow.python.eager import execute\n",
      "  File \"C:\\Users\\conca\\Documents\\progetti\\progettoUIT\\ispirazione8_pyglet\\UITProject\\venv\\Lib\\site-packages\\tensorflow\\python\\eager\\execute.py\", line 21, in <module>\n",
      "    from tensorflow.python.framework import dtypes\n",
      "  File \"C:\\Users\\conca\\Documents\\progetti\\progettoUIT\\ispirazione8_pyglet\\UITProject\\venv\\Lib\\site-packages\\tensorflow\\python\\framework\\dtypes.py\", line 30, in <module>\n",
      "    from tensorflow.python.lib.core import _pywrap_float8\n"
     ]
    },
    {
     "ename": "AttributeError",
     "evalue": "_ARRAY_API not found",
     "output_type": "error",
     "traceback": [
      "\u001B[1;31m---------------------------------------------------------------------------\u001B[0m",
      "\u001B[1;31mAttributeError\u001B[0m                            Traceback (most recent call last)",
      "\u001B[1;31mAttributeError\u001B[0m: _ARRAY_API not found"
     ]
    },
    {
     "ename": "ImportError",
     "evalue": "numpy.core._multiarray_umath failed to import",
     "output_type": "error",
     "traceback": [
      "\u001B[1;31m---------------------------------------------------------------------------\u001B[0m",
      "\u001B[1;31mImportError\u001B[0m                               Traceback (most recent call last)",
      "\u001B[1;31mImportError\u001B[0m: numpy.core._multiarray_umath failed to import"
     ]
    },
    {
     "ename": "ImportError",
     "evalue": "numpy.core.umath failed to import",
     "output_type": "error",
     "traceback": [
      "\u001B[1;31m---------------------------------------------------------------------------\u001B[0m",
      "\u001B[1;31mImportError\u001B[0m                               Traceback (most recent call last)",
      "\u001B[1;31mImportError\u001B[0m: numpy.core.umath failed to import"
     ]
    },
    {
     "name": "stderr",
     "output_type": "stream",
     "text": [
      "\n",
      "A module that was compiled using NumPy 1.x cannot be run in\n",
      "NumPy 2.0.2 as it may crash. To support both 1.x and 2.x\n",
      "versions of NumPy, modules must be compiled with NumPy 2.0.\n",
      "Some module may need to rebuild instead e.g. with 'pybind11>=2.12'.\n",
      "\n",
      "If you are a user of the module, the easiest solution will be to\n",
      "downgrade to 'numpy<2' or try to upgrade the affected module.\n",
      "We expect that some modules will need time to support NumPy 2.\n",
      "\n",
      "Traceback (most recent call last):  File \"<frozen runpy>\", line 198, in _run_module_as_main\n",
      "  File \"<frozen runpy>\", line 88, in _run_code\n",
      "  File \"C:\\Users\\conca\\Documents\\progetti\\progettoUIT\\ispirazione8_pyglet\\UITProject\\venv\\Lib\\site-packages\\ipykernel_launcher.py\", line 18, in <module>\n",
      "    app.launch_new_instance()\n",
      "  File \"C:\\Users\\conca\\Documents\\progetti\\progettoUIT\\ispirazione8_pyglet\\UITProject\\venv\\Lib\\site-packages\\traitlets\\config\\application.py\", line 1075, in launch_instance\n",
      "    app.start()\n",
      "  File \"C:\\Users\\conca\\Documents\\progetti\\progettoUIT\\ispirazione8_pyglet\\UITProject\\venv\\Lib\\site-packages\\ipykernel\\kernelapp.py\", line 739, in start\n",
      "    self.io_loop.start()\n",
      "  File \"C:\\Users\\conca\\Documents\\progetti\\progettoUIT\\ispirazione8_pyglet\\UITProject\\venv\\Lib\\site-packages\\tornado\\platform\\asyncio.py\", line 205, in start\n",
      "    self.asyncio_loop.run_forever()\n",
      "  File \"C:\\Program Files\\WindowsApps\\PythonSoftwareFoundation.Python.3.11_3.11.2544.0_x64__qbz5n2kfra8p0\\Lib\\asyncio\\base_events.py\", line 608, in run_forever\n",
      "    self._run_once()\n",
      "  File \"C:\\Program Files\\WindowsApps\\PythonSoftwareFoundation.Python.3.11_3.11.2544.0_x64__qbz5n2kfra8p0\\Lib\\asyncio\\base_events.py\", line 1936, in _run_once\n",
      "    handle._run()\n",
      "  File \"C:\\Program Files\\WindowsApps\\PythonSoftwareFoundation.Python.3.11_3.11.2544.0_x64__qbz5n2kfra8p0\\Lib\\asyncio\\events.py\", line 84, in _run\n",
      "    self._context.run(self._callback, *self._args)\n",
      "  File \"C:\\Users\\conca\\Documents\\progetti\\progettoUIT\\ispirazione8_pyglet\\UITProject\\venv\\Lib\\site-packages\\ipykernel\\kernelbase.py\", line 545, in dispatch_queue\n",
      "    await self.process_one()\n",
      "  File \"C:\\Users\\conca\\Documents\\progetti\\progettoUIT\\ispirazione8_pyglet\\UITProject\\venv\\Lib\\site-packages\\ipykernel\\kernelbase.py\", line 534, in process_one\n",
      "    await dispatch(*args)\n",
      "  File \"C:\\Users\\conca\\Documents\\progetti\\progettoUIT\\ispirazione8_pyglet\\UITProject\\venv\\Lib\\site-packages\\ipykernel\\kernelbase.py\", line 437, in dispatch_shell\n",
      "    await result\n",
      "  File \"C:\\Users\\conca\\Documents\\progetti\\progettoUIT\\ispirazione8_pyglet\\UITProject\\venv\\Lib\\site-packages\\ipykernel\\ipkernel.py\", line 362, in execute_request\n",
      "    await super().execute_request(stream, ident, parent)\n",
      "  File \"C:\\Users\\conca\\Documents\\progetti\\progettoUIT\\ispirazione8_pyglet\\UITProject\\venv\\Lib\\site-packages\\ipykernel\\kernelbase.py\", line 778, in execute_request\n",
      "    reply_content = await reply_content\n",
      "  File \"C:\\Users\\conca\\Documents\\progetti\\progettoUIT\\ispirazione8_pyglet\\UITProject\\venv\\Lib\\site-packages\\ipykernel\\ipkernel.py\", line 449, in do_execute\n",
      "    res = shell.run_cell(\n",
      "  File \"C:\\Users\\conca\\Documents\\progetti\\progettoUIT\\ispirazione8_pyglet\\UITProject\\venv\\Lib\\site-packages\\ipykernel\\zmqshell.py\", line 549, in run_cell\n",
      "    return super().run_cell(*args, **kwargs)\n",
      "  File \"C:\\Users\\conca\\Documents\\progetti\\progettoUIT\\ispirazione8_pyglet\\UITProject\\venv\\Lib\\site-packages\\IPython\\core\\interactiveshell.py\", line 3075, in run_cell\n",
      "    result = self._run_cell(\n",
      "  File \"C:\\Users\\conca\\Documents\\progetti\\progettoUIT\\ispirazione8_pyglet\\UITProject\\venv\\Lib\\site-packages\\IPython\\core\\interactiveshell.py\", line 3130, in _run_cell\n",
      "    result = runner(coro)\n",
      "  File \"C:\\Users\\conca\\Documents\\progetti\\progettoUIT\\ispirazione8_pyglet\\UITProject\\venv\\Lib\\site-packages\\IPython\\core\\async_helpers.py\", line 128, in _pseudo_sync_runner\n",
      "    coro.send(None)\n",
      "  File \"C:\\Users\\conca\\Documents\\progetti\\progettoUIT\\ispirazione8_pyglet\\UITProject\\venv\\Lib\\site-packages\\IPython\\core\\interactiveshell.py\", line 3334, in run_cell_async\n",
      "    has_raised = await self.run_ast_nodes(code_ast.body, cell_name,\n",
      "  File \"C:\\Users\\conca\\Documents\\progetti\\progettoUIT\\ispirazione8_pyglet\\UITProject\\venv\\Lib\\site-packages\\IPython\\core\\interactiveshell.py\", line 3517, in run_ast_nodes\n",
      "    if await self.run_code(code, result, async_=asy):\n",
      "  File \"C:\\Users\\conca\\Documents\\progetti\\progettoUIT\\ispirazione8_pyglet\\UITProject\\venv\\Lib\\site-packages\\IPython\\core\\interactiveshell.py\", line 3577, in run_code\n",
      "    exec(code_obj, self.user_global_ns, self.user_ns)\n",
      "  File \"C:\\Users\\conca\\AppData\\Local\\Temp\\ipykernel_22076\\1566639998.py\", line 3, in <module>\n",
      "    import tensorflow as tf\n",
      "  File \"C:\\Users\\conca\\Documents\\progetti\\progettoUIT\\ispirazione8_pyglet\\UITProject\\venv\\Lib\\site-packages\\tensorflow\\__init__.py\", line 38, in <module>\n",
      "    from tensorflow.python.tools import module_util as _module_util\n",
      "  File \"C:\\Users\\conca\\Documents\\progetti\\progettoUIT\\ispirazione8_pyglet\\UITProject\\venv\\Lib\\site-packages\\tensorflow\\python\\__init__.py\", line 37, in <module>\n",
      "    from tensorflow.python.eager import context\n",
      "  File \"C:\\Users\\conca\\Documents\\progetti\\progettoUIT\\ispirazione8_pyglet\\UITProject\\venv\\Lib\\site-packages\\tensorflow\\python\\eager\\context.py\", line 36, in <module>\n",
      "    from tensorflow.python.eager import execute\n",
      "  File \"C:\\Users\\conca\\Documents\\progetti\\progettoUIT\\ispirazione8_pyglet\\UITProject\\venv\\Lib\\site-packages\\tensorflow\\python\\eager\\execute.py\", line 21, in <module>\n",
      "    from tensorflow.python.framework import dtypes\n",
      "  File \"C:\\Users\\conca\\Documents\\progetti\\progettoUIT\\ispirazione8_pyglet\\UITProject\\venv\\Lib\\site-packages\\tensorflow\\python\\framework\\dtypes.py\", line 35, in <module>\n",
      "    from tensorflow.tsl.python.lib.core import pywrap_bfloat16\n"
     ]
    },
    {
     "ename": "AttributeError",
     "evalue": "_ARRAY_API not found",
     "output_type": "error",
     "traceback": [
      "\u001B[1;31m---------------------------------------------------------------------------\u001B[0m",
      "\u001B[1;31mAttributeError\u001B[0m                            Traceback (most recent call last)",
      "\u001B[1;31mAttributeError\u001B[0m: _ARRAY_API not found"
     ]
    },
    {
     "ename": "ImportError",
     "evalue": "numpy.core._multiarray_umath failed to import",
     "output_type": "error",
     "traceback": [
      "\u001B[1;31m---------------------------------------------------------------------------\u001B[0m",
      "\u001B[1;31mImportError\u001B[0m                               Traceback (most recent call last)",
      "\u001B[1;31mImportError\u001B[0m: numpy.core._multiarray_umath failed to import"
     ]
    },
    {
     "ename": "ImportError",
     "evalue": "numpy.core.umath failed to import",
     "output_type": "error",
     "traceback": [
      "\u001B[1;31m---------------------------------------------------------------------------\u001B[0m",
      "\u001B[1;31mImportError\u001B[0m                               Traceback (most recent call last)",
      "\u001B[1;31mImportError\u001B[0m: numpy.core.umath failed to import"
     ]
    },
    {
     "ename": "TypeError",
     "evalue": "Unable to convert function return value to a Python type! The signature was\n\t() -> handle",
     "output_type": "error",
     "traceback": [
      "\u001B[1;31m---------------------------------------------------------------------------\u001B[0m",
      "\u001B[1;31mTypeError\u001B[0m                                 Traceback (most recent call last)",
      "Cell \u001B[1;32mIn[3], line 3\u001B[0m\n\u001B[0;32m      1\u001B[0m \u001B[38;5;66;03m#from google.colab import files\u001B[39;00m\n\u001B[0;32m      2\u001B[0m \u001B[38;5;28;01mimport\u001B[39;00m \u001B[38;5;21;01mos\u001B[39;00m\n\u001B[1;32m----> 3\u001B[0m \u001B[38;5;28;01mimport\u001B[39;00m \u001B[38;5;21;01mtensorflow\u001B[39;00m \u001B[38;5;28;01mas\u001B[39;00m \u001B[38;5;21;01mtf\u001B[39;00m\n\u001B[0;32m      4\u001B[0m \u001B[38;5;28;01massert\u001B[39;00m tf\u001B[38;5;241m.\u001B[39m__version__\u001B[38;5;241m.\u001B[39mstartswith(\u001B[38;5;124m'\u001B[39m\u001B[38;5;124m2\u001B[39m\u001B[38;5;124m'\u001B[39m)\n\u001B[0;32m      6\u001B[0m \u001B[38;5;28;01mfrom\u001B[39;00m \u001B[38;5;21;01mmediapipe_model_maker\u001B[39;00m \u001B[38;5;28;01mimport\u001B[39;00m gesture_recognizer\n",
      "File \u001B[1;32m~\\Documents\\progetti\\progettoUIT\\ispirazione8_pyglet\\UITProject\\venv\\Lib\\site-packages\\tensorflow\\__init__.py:38\u001B[0m\n\u001B[0;32m     35\u001B[0m \u001B[38;5;28;01mimport\u001B[39;00m \u001B[38;5;21;01msys\u001B[39;00m \u001B[38;5;28;01mas\u001B[39;00m \u001B[38;5;21;01m_sys\u001B[39;00m\n\u001B[0;32m     36\u001B[0m \u001B[38;5;28;01mimport\u001B[39;00m \u001B[38;5;21;01mtyping\u001B[39;00m \u001B[38;5;28;01mas\u001B[39;00m \u001B[38;5;21;01m_typing\u001B[39;00m\n\u001B[1;32m---> 38\u001B[0m \u001B[38;5;28;01mfrom\u001B[39;00m \u001B[38;5;21;01mtensorflow\u001B[39;00m\u001B[38;5;21;01m.\u001B[39;00m\u001B[38;5;21;01mpython\u001B[39;00m\u001B[38;5;21;01m.\u001B[39;00m\u001B[38;5;21;01mtools\u001B[39;00m \u001B[38;5;28;01mimport\u001B[39;00m module_util \u001B[38;5;28;01mas\u001B[39;00m _module_util\n\u001B[0;32m     39\u001B[0m \u001B[38;5;28;01mfrom\u001B[39;00m \u001B[38;5;21;01mtensorflow\u001B[39;00m\u001B[38;5;21;01m.\u001B[39;00m\u001B[38;5;21;01mpython\u001B[39;00m\u001B[38;5;21;01m.\u001B[39;00m\u001B[38;5;21;01mutil\u001B[39;00m\u001B[38;5;21;01m.\u001B[39;00m\u001B[38;5;21;01mlazy_loader\u001B[39;00m \u001B[38;5;28;01mimport\u001B[39;00m LazyLoader \u001B[38;5;28;01mas\u001B[39;00m _LazyLoader\n\u001B[0;32m     41\u001B[0m \u001B[38;5;66;03m# Make sure code inside the TensorFlow codebase can use tf2.enabled() at import.\u001B[39;00m\n",
      "File \u001B[1;32m~\\Documents\\progetti\\progettoUIT\\ispirazione8_pyglet\\UITProject\\venv\\Lib\\site-packages\\tensorflow\\python\\__init__.py:37\u001B[0m\n\u001B[0;32m     29\u001B[0m \u001B[38;5;66;03m# We aim to keep this file minimal and ideally remove completely.\u001B[39;00m\n\u001B[0;32m     30\u001B[0m \u001B[38;5;66;03m# If you are adding a new file with @tf_export decorators,\u001B[39;00m\n\u001B[0;32m     31\u001B[0m \u001B[38;5;66;03m# import it in modules_with_exports.py instead.\u001B[39;00m\n\u001B[0;32m     32\u001B[0m \n\u001B[0;32m     33\u001B[0m \u001B[38;5;66;03m# go/tf-wildcard-import\u001B[39;00m\n\u001B[0;32m     34\u001B[0m \u001B[38;5;66;03m# pylint: disable=wildcard-import,g-bad-import-order,g-import-not-at-top\u001B[39;00m\n\u001B[0;32m     36\u001B[0m \u001B[38;5;28;01mfrom\u001B[39;00m \u001B[38;5;21;01mtensorflow\u001B[39;00m\u001B[38;5;21;01m.\u001B[39;00m\u001B[38;5;21;01mpython\u001B[39;00m \u001B[38;5;28;01mimport\u001B[39;00m pywrap_tensorflow \u001B[38;5;28;01mas\u001B[39;00m _pywrap_tensorflow\n\u001B[1;32m---> 37\u001B[0m \u001B[38;5;28;01mfrom\u001B[39;00m \u001B[38;5;21;01mtensorflow\u001B[39;00m\u001B[38;5;21;01m.\u001B[39;00m\u001B[38;5;21;01mpython\u001B[39;00m\u001B[38;5;21;01m.\u001B[39;00m\u001B[38;5;21;01meager\u001B[39;00m \u001B[38;5;28;01mimport\u001B[39;00m context\n\u001B[0;32m     39\u001B[0m \u001B[38;5;66;03m# pylint: enable=wildcard-import\u001B[39;00m\n\u001B[0;32m     40\u001B[0m \n\u001B[0;32m     41\u001B[0m \u001B[38;5;66;03m# Bring in subpackages.\u001B[39;00m\n\u001B[0;32m     42\u001B[0m \u001B[38;5;28;01mfrom\u001B[39;00m \u001B[38;5;21;01mtensorflow\u001B[39;00m\u001B[38;5;21;01m.\u001B[39;00m\u001B[38;5;21;01mpython\u001B[39;00m \u001B[38;5;28;01mimport\u001B[39;00m data\n",
      "File \u001B[1;32m~\\Documents\\progetti\\progettoUIT\\ispirazione8_pyglet\\UITProject\\venv\\Lib\\site-packages\\tensorflow\\python\\eager\\context.py:36\u001B[0m\n\u001B[0;32m     34\u001B[0m \u001B[38;5;28;01mfrom\u001B[39;00m \u001B[38;5;21;01mtensorflow\u001B[39;00m\u001B[38;5;21;01m.\u001B[39;00m\u001B[38;5;21;01mpython\u001B[39;00m\u001B[38;5;21;01m.\u001B[39;00m\u001B[38;5;21;01mclient\u001B[39;00m \u001B[38;5;28;01mimport\u001B[39;00m pywrap_tf_session\n\u001B[0;32m     35\u001B[0m \u001B[38;5;28;01mfrom\u001B[39;00m \u001B[38;5;21;01mtensorflow\u001B[39;00m\u001B[38;5;21;01m.\u001B[39;00m\u001B[38;5;21;01mpython\u001B[39;00m\u001B[38;5;21;01m.\u001B[39;00m\u001B[38;5;21;01meager\u001B[39;00m \u001B[38;5;28;01mimport\u001B[39;00m cancellation\n\u001B[1;32m---> 36\u001B[0m \u001B[38;5;28;01mfrom\u001B[39;00m \u001B[38;5;21;01mtensorflow\u001B[39;00m\u001B[38;5;21;01m.\u001B[39;00m\u001B[38;5;21;01mpython\u001B[39;00m\u001B[38;5;21;01m.\u001B[39;00m\u001B[38;5;21;01meager\u001B[39;00m \u001B[38;5;28;01mimport\u001B[39;00m execute\n\u001B[0;32m     37\u001B[0m \u001B[38;5;28;01mfrom\u001B[39;00m \u001B[38;5;21;01mtensorflow\u001B[39;00m\u001B[38;5;21;01m.\u001B[39;00m\u001B[38;5;21;01mpython\u001B[39;00m\u001B[38;5;21;01m.\u001B[39;00m\u001B[38;5;21;01meager\u001B[39;00m \u001B[38;5;28;01mimport\u001B[39;00m executor\n\u001B[0;32m     38\u001B[0m \u001B[38;5;28;01mfrom\u001B[39;00m \u001B[38;5;21;01mtensorflow\u001B[39;00m\u001B[38;5;21;01m.\u001B[39;00m\u001B[38;5;21;01mpython\u001B[39;00m\u001B[38;5;21;01m.\u001B[39;00m\u001B[38;5;21;01meager\u001B[39;00m \u001B[38;5;28;01mimport\u001B[39;00m monitoring\n",
      "File \u001B[1;32m~\\Documents\\progetti\\progettoUIT\\ispirazione8_pyglet\\UITProject\\venv\\Lib\\site-packages\\tensorflow\\python\\eager\\execute.py:21\u001B[0m\n\u001B[0;32m     19\u001B[0m \u001B[38;5;28;01mfrom\u001B[39;00m \u001B[38;5;21;01mtensorflow\u001B[39;00m\u001B[38;5;21;01m.\u001B[39;00m\u001B[38;5;21;01mpython\u001B[39;00m \u001B[38;5;28;01mimport\u001B[39;00m pywrap_tfe\n\u001B[0;32m     20\u001B[0m \u001B[38;5;28;01mfrom\u001B[39;00m \u001B[38;5;21;01mtensorflow\u001B[39;00m\u001B[38;5;21;01m.\u001B[39;00m\u001B[38;5;21;01mpython\u001B[39;00m\u001B[38;5;21;01m.\u001B[39;00m\u001B[38;5;21;01meager\u001B[39;00m \u001B[38;5;28;01mimport\u001B[39;00m core\n\u001B[1;32m---> 21\u001B[0m \u001B[38;5;28;01mfrom\u001B[39;00m \u001B[38;5;21;01mtensorflow\u001B[39;00m\u001B[38;5;21;01m.\u001B[39;00m\u001B[38;5;21;01mpython\u001B[39;00m\u001B[38;5;21;01m.\u001B[39;00m\u001B[38;5;21;01mframework\u001B[39;00m \u001B[38;5;28;01mimport\u001B[39;00m dtypes\n\u001B[0;32m     22\u001B[0m \u001B[38;5;28;01mfrom\u001B[39;00m \u001B[38;5;21;01mtensorflow\u001B[39;00m\u001B[38;5;21;01m.\u001B[39;00m\u001B[38;5;21;01mpython\u001B[39;00m\u001B[38;5;21;01m.\u001B[39;00m\u001B[38;5;21;01mframework\u001B[39;00m \u001B[38;5;28;01mimport\u001B[39;00m tensor_conversion_registry\n\u001B[0;32m     23\u001B[0m \u001B[38;5;28;01mfrom\u001B[39;00m \u001B[38;5;21;01mtensorflow\u001B[39;00m\u001B[38;5;21;01m.\u001B[39;00m\u001B[38;5;21;01mpython\u001B[39;00m\u001B[38;5;21;01m.\u001B[39;00m\u001B[38;5;21;01mframework\u001B[39;00m \u001B[38;5;28;01mimport\u001B[39;00m tensor_shape\n",
      "File \u001B[1;32m~\\Documents\\progetti\\progettoUIT\\ispirazione8_pyglet\\UITProject\\venv\\Lib\\site-packages\\tensorflow\\python\\framework\\dtypes.py:38\u001B[0m\n\u001B[0;32m     35\u001B[0m \u001B[38;5;28;01mfrom\u001B[39;00m \u001B[38;5;21;01mtensorflow\u001B[39;00m\u001B[38;5;21;01m.\u001B[39;00m\u001B[38;5;21;01mtsl\u001B[39;00m\u001B[38;5;21;01m.\u001B[39;00m\u001B[38;5;21;01mpython\u001B[39;00m\u001B[38;5;21;01m.\u001B[39;00m\u001B[38;5;21;01mlib\u001B[39;00m\u001B[38;5;21;01m.\u001B[39;00m\u001B[38;5;21;01mcore\u001B[39;00m \u001B[38;5;28;01mimport\u001B[39;00m pywrap_bfloat16\n\u001B[0;32m     36\u001B[0m \u001B[38;5;28;01mfrom\u001B[39;00m \u001B[38;5;21;01mtensorflow\u001B[39;00m\u001B[38;5;21;01m.\u001B[39;00m\u001B[38;5;21;01mpython\u001B[39;00m\u001B[38;5;21;01m.\u001B[39;00m\u001B[38;5;21;01mframework\u001B[39;00m \u001B[38;5;28;01mimport\u001B[39;00m cpp_shape_inference_pb2\n\u001B[1;32m---> 38\u001B[0m _np_bfloat16 \u001B[38;5;241m=\u001B[39m \u001B[43mpywrap_bfloat16\u001B[49m\u001B[38;5;241;43m.\u001B[39;49m\u001B[43mbfloat16_type\u001B[49m\u001B[43m(\u001B[49m\u001B[43m)\u001B[49m\n\u001B[0;32m     39\u001B[0m _np_float8_e4m3fn \u001B[38;5;241m=\u001B[39m _pywrap_float8\u001B[38;5;241m.\u001B[39mTF_float8_e4m3fn_type()\n\u001B[0;32m     40\u001B[0m _np_float8_e5m2 \u001B[38;5;241m=\u001B[39m _pywrap_float8\u001B[38;5;241m.\u001B[39mTF_float8_e5m2_type()\n",
      "\u001B[1;31mTypeError\u001B[0m: Unable to convert function return value to a Python type! The signature was\n\t() -> handle"
     ]
    }
   ],
   "execution_count": 3
  },
  {
   "cell_type": "markdown",
   "metadata": {
    "id": "IppoENBmAuFn"
   },
   "source": [
    "## Simple End-to-End Example\n",
    "\n",
    "This end-to-end example uses Model Maker to customize a model for on-device gesture recognition."
   ]
  },
  {
   "cell_type": "markdown",
   "metadata": {
    "id": "i8fMLXTdD6tW"
   },
   "source": [
    "### Get the dataset"
   ]
  },
  {
   "cell_type": "markdown",
   "metadata": {
    "id": "7TwDFilngzjs"
   },
   "source": [
    "The dataset for gesture recognition in model maker requires the following format: `<dataset_path>/<label_name>/<img_name>.*`. In addition, one of the label names (`label_names`) must be `none`. The `none` label represents any gesture that isn't classified as one of the other gestures.\n",
    "\n",
    "This example uses a rock paper scissors dataset sample which is downloaded from GCS."
   ]
  },
  {
   "cell_type": "code",
   "metadata": {
    "id": "6dwmyg5MnR_y",
    "ExecuteTime": {
     "end_time": "2024-11-26T10:24:51.856357Z",
     "start_time": "2024-11-26T10:24:51.856357Z"
    }
   },
   "source": [
    "!wget https://storage.googleapis.com/mediapipe-tasks/gesture_recognizer/rps_data_sample.zip\n",
    "!unzip rps_data_sample.zip\n",
    "dataset_path = \"rps_data_sample\""
   ],
   "outputs": [],
   "execution_count": null
  },
  {
   "cell_type": "markdown",
   "metadata": {
    "id": "iiWb9Tu3lBBI"
   },
   "source": [
    "Verify the rock paper scissors dataset by printing the labels. There should be 4 gesture labels, with one of them being the `none` gesture."
   ]
  },
  {
   "cell_type": "code",
   "metadata": {
    "id": "QgadM4VDj3Y2"
   },
   "source": [
    "print(dataset_path)\n",
    "labels = []\n",
    "for i in os.listdir(dataset_path):\n",
    "  if os.path.isdir(os.path.join(dataset_path, i)):\n",
    "    labels.append(i)\n",
    "print(labels)"
   ],
   "outputs": [],
   "execution_count": null
  },
  {
   "cell_type": "markdown",
   "metadata": {
    "id": "CA0o59OMjqmV"
   },
   "source": [
    "To better understand the dataset, plot a couple of example images for each gesture."
   ]
  },
  {
   "cell_type": "code",
   "metadata": {
    "id": "sx8PsrwYjvgO",
    "ExecuteTime": {
     "end_time": "2024-11-26T10:24:51.858365Z",
     "start_time": "2024-11-26T10:24:51.858365Z"
    }
   },
   "source": [
    "NUM_EXAMPLES = 5\n",
    "\n",
    "for label in labels:\n",
    "  label_dir = os.path.join(dataset_path, label)\n",
    "  example_filenames = os.listdir(label_dir)[:NUM_EXAMPLES]\n",
    "  fig, axs = plt.subplots(1, NUM_EXAMPLES, figsize=(10,2))\n",
    "  for i in range(NUM_EXAMPLES):\n",
    "    axs[i].imshow(plt.imread(os.path.join(label_dir, example_filenames[i])))\n",
    "    axs[i].get_xaxis().set_visible(False)\n",
    "    axs[i].get_yaxis().set_visible(False)\n",
    "  fig.suptitle(f'Showing {NUM_EXAMPLES} examples for {label}')\n",
    "\n",
    "plt.show()"
   ],
   "outputs": [],
   "execution_count": null
  },
  {
   "cell_type": "markdown",
   "metadata": {
    "id": "sWXwEXSXlg7d"
   },
   "source": [
    "### Run the example\n",
    "The workflow consists of 4 steps which have been separated into their own code blocks."
   ]
  },
  {
   "cell_type": "markdown",
   "metadata": {
    "id": "OF9ArLQXIu25"
   },
   "source": [
    "**Load the dataset**\n",
    "\n",
    "Load the dataset located at `dataset_path` by using the `Dataset.from_folder` method. When loading the dataset, run the pre-packaged hand detection model from MediaPipe Hands to detect the hand landmarks from the images. Any images without detected hands are ommitted from the dataset. The resulting dataset will contain the extracted hand landmark positions from each image, rather than images themselves.\n",
    "\n",
    "The `HandDataPreprocessingParams` class contains two configurable options for the data loading process:\n",
    "* `shuffle`: A boolean controlling whether to shuffle the dataset. Defaults to true.\n",
    "* `min_detection_confidence`: A float between 0 and 1 controlling the confidence threshold for hand detection.\n",
    "\n",
    "Split the dataset: 80% for training, 10% for validation, and 10% for testing."
   ]
  },
  {
   "cell_type": "code",
   "metadata": {
    "id": "aTTNZsolKXiT"
   },
   "source": [
    "data = gesture_recognizer.Dataset.from_folder(\n",
    "    dirname=dataset_path,\n",
    "    hparams=gesture_recognizer.HandDataPreprocessingParams()\n",
    ")\n",
    "train_data, rest_data = data.split(0.8)\n",
    "validation_data, test_data = rest_data.split(0.5)"
   ],
   "outputs": [],
   "execution_count": null
  },
  {
   "cell_type": "markdown",
   "metadata": {
    "id": "ndTh_ZyEIeKV"
   },
   "source": [
    "**Train the model**"
   ]
  },
  {
   "cell_type": "markdown",
   "metadata": {
    "id": "yAXWc3bv8hpe"
   },
   "source": [
    "Train the custom gesture recognizer by using the create method and passing in the training data, validation data, model options, and hyperparameters. For more information on model options and hyperparameters, see the [Hyperparameters](#hyperparameters) section below."
   ]
  },
  {
   "cell_type": "code",
   "metadata": {
    "id": "yk0UiRB6NZrb"
   },
   "source": [
    "hparams = gesture_recognizer.HParams(export_dir=\"exported_model\")\n",
    "options = gesture_recognizer.GestureRecognizerOptions(hparams=hparams)\n",
    "model = gesture_recognizer.GestureRecognizer.create(\n",
    "    train_data=train_data,\n",
    "    validation_data=validation_data,\n",
    "    options=options\n",
    ")"
   ],
   "outputs": [],
   "execution_count": null
  },
  {
   "cell_type": "markdown",
   "metadata": {
    "id": "nED7mdIO9YS6"
   },
   "source": [
    "**Evaluate the model performance**\n",
    "\n",
    "After training the model, evaluate it on a test dataset and print the loss and accuracy metrics."
   ]
  },
  {
   "cell_type": "code",
   "metadata": {
    "id": "OdOqllqx9YKy"
   },
   "source": [
    "loss, acc = model.evaluate(test_data, batch_size=1)\n",
    "print(f\"Test loss:{loss}, Test accuracy:{acc}\")"
   ],
   "outputs": [],
   "execution_count": null
  },
  {
   "cell_type": "markdown",
   "metadata": {
    "id": "vJLramjy9gvy"
   },
   "source": [
    "**Export to Tensorflow Lite Model**\n",
    "\n",
    "After creating the model, convert and export it to a Tensorflow Lite model format for later use on an on-device application. The export also includes model metadata, which includes the label file."
   ]
  },
  {
   "cell_type": "code",
   "metadata": {
    "id": "fmNaFXytijVg"
   },
   "source": [
    "model.export_model()\n",
    "!ls exported_model"
   ],
   "outputs": [],
   "execution_count": null
  },
  {
   "cell_type": "code",
   "metadata": {
    "id": "7yfN_47qjjOC"
   },
   "source": [
    "files.download('exported_model/gesture_recognizer.task')"
   ],
   "outputs": [],
   "execution_count": null
  },
  {
   "cell_type": "markdown",
   "metadata": {
    "id": "ulqyNGmTCKeU"
   },
   "source": [
    "## Run the model on-device\n",
    "\n",
    "To use the TFLite model for on-device usage through MediaPipe Tasks, refer to the Gesture Recognizer [overview page](https://developers.google.com/mediapipe/solutions/vision/gesture_recognizer)."
   ]
  },
  {
   "cell_type": "markdown",
   "metadata": {
    "id": "F1tiLGGRcvhy"
   },
   "source": [
    "## Hyperparameters {:#hyperparameters}\n"
   ]
  },
  {
   "cell_type": "markdown",
   "metadata": {
    "id": "f1UMEG85hQL_"
   },
   "source": [
    "You can further customize the model using the `GestureRecognizerOptions` class, which has two optional parameters for `ModelOptions` and `HParams`. Use the `ModelOptions` class to customize parameters related to the model itself, and the `HParams` class to customize other parameters related to training and saving the model.\n",
    "\n",
    "`ModelOptions` has one customizable parameter that affects accuracy:\n",
    "* `dropout_rate`: The fraction of the input units to drop. Used in dropout layer. Defaults to 0.05.\n",
    "* `layer_widths`: A list of hidden layer widths for the gesture model. Each element in the list will create a new hidden layer with the specified width. The hidden layers are separated with BatchNorm, Dropout, and ReLU. Defaults to an empty list(no hidden layers).\n",
    "\n",
    "`HParams` has the following list of customizable parameters which affect model accuracy:\n",
    "* `learning_rate`: The learning rate to use for gradient descent training. Defaults to 0.001.\n",
    "* `batch_size`: Batch size for training. Defaults to 2.\n",
    "* `epochs`: Number of training iterations over the dataset. Defaults to 10.\n",
    "* `steps_per_epoch`: An optional integer that indicates the number of training steps per epoch. If not set, the training pipeline calculates the default steps per epoch as the training dataset size divided by batch size.\n",
    "* `shuffle`: True if the dataset is shuffled before training. Defaults to False.\n",
    "* `lr_decay`: Learning rate decay to use for gradient descent training. Defaults to 0.99.\n",
    "* `gamma`: Gamma parameter for focal loss. Defaults to 2\n",
    "\n",
    "Additional `HParams` parameter that does not affect model accuracy:\n",
    "* `export_dir`: The location of the model checkpoint files and exported model files."
   ]
  },
  {
   "cell_type": "markdown",
   "metadata": {
    "id": "psvVZeSYBLfV"
   },
   "source": [
    "For example, the following trains a new model with the dropout_rate of 0.2 and learning rate of 0.003."
   ]
  },
  {
   "cell_type": "code",
   "metadata": {
    "id": "CxMOI8o6iNLu"
   },
   "source": [
    "hparams = gesture_recognizer.HParams(learning_rate=0.003, export_dir=\"exported_model_2\")\n",
    "model_options = gesture_recognizer.ModelOptions(dropout_rate=0.2)\n",
    "options = gesture_recognizer.GestureRecognizerOptions(model_options=model_options, hparams=hparams)\n",
    "model_2 = gesture_recognizer.GestureRecognizer.create(\n",
    "    train_data=train_data,\n",
    "    validation_data=validation_data,\n",
    "    options=options\n",
    ")"
   ],
   "outputs": [],
   "execution_count": null
  },
  {
   "cell_type": "markdown",
   "metadata": {
    "id": "3cekuTJiBbv9"
   },
   "source": [
    "Evaluate the newly trained model."
   ]
  },
  {
   "cell_type": "code",
   "metadata": {
    "id": "RRH96bm-BbAo"
   },
   "source": [
    "loss, accuracy = model_2.evaluate(test_data)\n",
    "print(f\"Test loss:{loss}, Test accuracy:{accuracy}\")"
   ],
   "outputs": [],
   "execution_count": null
  }
 ],
 "metadata": {
  "colab": {
   "private_outputs": true,
   "provenance": []
  },
  "kernelspec": {
   "display_name": "Python 3 (ipykernel)",
   "name": "python3",
   "language": "python"
  },
  "language_info": {
   "name": "python"
  }
 },
 "nbformat": 4,
 "nbformat_minor": 0
}
